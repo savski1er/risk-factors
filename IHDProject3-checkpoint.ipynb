{
 "cells": [
  {
   "cell_type": "code",
   "execution_count": 478,
   "metadata": {},
   "outputs": [],
   "source": [
    "# Imports\n",
    "import pandas as pd\n",
    "import numpy as np\n",
    "import matplotlib.pyplot as plt\n",
    "import seaborn as sns\n",
    "from sklearn.model_selection import train_test_split\n",
    "from sklearn.metrics import r2_score, mean_squared_error\n",
    "from sklearn.preprocessing import MinMaxScaler\n",
    "from sklearn.neighbors import KNeighborsRegressor\n",
    "from sklearn.linear_model import LinearRegression\n",
    "from sklearn.svm import SVR\n",
    "from sklearn.ensemble import RandomForestRegressor\n",
    "from sklearn.tree import DecisionTreeRegressor\n",
    "from scipy.stats import pearsonr\n",
    "from sklearn.ensemble import GradientBoostingRegressor\n",
    "from sklearn.linear_model import SGDRegressor\n",
    "import statsmodels.api as sm\n",
    "from sklearn.model_selection import GridSearchCV\n",
    "import seaborn as sns"
   ]
  },
  {
   "cell_type": "code",
   "execution_count": 479,
   "metadata": {},
   "outputs": [
    {
     "data": {
      "text/plain": [
       "(54895, 26)"
      ]
     },
     "execution_count": 479,
     "metadata": {},
     "output_type": "execute_result"
    }
   ],
   "source": [
    "# load original data into dataframe and check shape\n",
    "df = pd.read_csv(\"loschgs.csv\")\n",
    "df.shape"
   ]
  },
  {
   "cell_type": "code",
   "execution_count": 480,
   "metadata": {},
   "outputs": [
    {
     "data": {
      "text/html": [
       "<div>\n",
       "<style scoped>\n",
       "    .dataframe tbody tr th:only-of-type {\n",
       "        vertical-align: middle;\n",
       "    }\n",
       "\n",
       "    .dataframe tbody tr th {\n",
       "        vertical-align: top;\n",
       "    }\n",
       "\n",
       "    .dataframe thead th {\n",
       "        text-align: right;\n",
       "    }\n",
       "</style>\n",
       "<table border=\"1\" class=\"dataframe\">\n",
       "  <thead>\n",
       "    <tr style=\"text-align: right;\">\n",
       "      <th></th>\n",
       "      <th>0</th>\n",
       "      <th>1</th>\n",
       "      <th>2</th>\n",
       "      <th>3</th>\n",
       "      <th>4</th>\n",
       "      <th>5</th>\n",
       "      <th>6</th>\n",
       "      <th>7</th>\n",
       "      <th>8</th>\n",
       "      <th>9</th>\n",
       "    </tr>\n",
       "  </thead>\n",
       "  <tbody>\n",
       "    <tr>\n",
       "      <th>MASKSSN</th>\n",
       "      <td>MDA0MTQwNDgx</td>\n",
       "      <td>MDA0MTQxODc2</td>\n",
       "      <td>MDA0MjA0OTEz</td>\n",
       "      <td>MDA0MjA3NzM2</td>\n",
       "      <td>MDA0MjI0MzQ1</td>\n",
       "      <td>MDA0MjI2MjA5</td>\n",
       "      <td>MDA0MjIwMTkz</td>\n",
       "      <td>MDA0MjQzNDU2</td>\n",
       "      <td>MDA0MjY3NDMx</td>\n",
       "      <td>MDA0MjY4MjE1</td>\n",
       "    </tr>\n",
       "    <tr>\n",
       "      <th>AGE</th>\n",
       "      <td>93</td>\n",
       "      <td>94</td>\n",
       "      <td>85</td>\n",
       "      <td>88</td>\n",
       "      <td>87</td>\n",
       "      <td>87</td>\n",
       "      <td>83</td>\n",
       "      <td>85</td>\n",
       "      <td>90</td>\n",
       "      <td>84</td>\n",
       "    </tr>\n",
       "    <tr>\n",
       "      <th>ADMSRC</th>\n",
       "      <td>01</td>\n",
       "      <td>05</td>\n",
       "      <td>01</td>\n",
       "      <td>02</td>\n",
       "      <td>01</td>\n",
       "      <td>01</td>\n",
       "      <td>01</td>\n",
       "      <td>01</td>\n",
       "      <td>01</td>\n",
       "      <td>01</td>\n",
       "    </tr>\n",
       "    <tr>\n",
       "      <th>TYPE_SERV</th>\n",
       "      <td>1</td>\n",
       "      <td>1</td>\n",
       "      <td>1</td>\n",
       "      <td>1</td>\n",
       "      <td>1</td>\n",
       "      <td>1</td>\n",
       "      <td>1</td>\n",
       "      <td>1</td>\n",
       "      <td>1</td>\n",
       "      <td>1</td>\n",
       "    </tr>\n",
       "    <tr>\n",
       "      <th>ADM_PRIOR</th>\n",
       "      <td>3</td>\n",
       "      <td>1</td>\n",
       "      <td>3</td>\n",
       "      <td>3</td>\n",
       "      <td>1</td>\n",
       "      <td>1</td>\n",
       "      <td>1</td>\n",
       "      <td>1</td>\n",
       "      <td>1</td>\n",
       "      <td>1</td>\n",
       "    </tr>\n",
       "    <tr>\n",
       "      <th>hld</th>\n",
       "      <td>1</td>\n",
       "      <td>0</td>\n",
       "      <td>1</td>\n",
       "      <td>1</td>\n",
       "      <td>0</td>\n",
       "      <td>1</td>\n",
       "      <td>1</td>\n",
       "      <td>1</td>\n",
       "      <td>1</td>\n",
       "      <td>0</td>\n",
       "    </tr>\n",
       "    <tr>\n",
       "      <th>tia</th>\n",
       "      <td>1</td>\n",
       "      <td>0</td>\n",
       "      <td>1</td>\n",
       "      <td>0</td>\n",
       "      <td>0</td>\n",
       "      <td>0</td>\n",
       "      <td>0</td>\n",
       "      <td>0</td>\n",
       "      <td>0</td>\n",
       "      <td>0</td>\n",
       "    </tr>\n",
       "    <tr>\n",
       "      <th>Stroke</th>\n",
       "      <td>0</td>\n",
       "      <td>0</td>\n",
       "      <td>0</td>\n",
       "      <td>0</td>\n",
       "      <td>0</td>\n",
       "      <td>0</td>\n",
       "      <td>0</td>\n",
       "      <td>0</td>\n",
       "      <td>0</td>\n",
       "      <td>0</td>\n",
       "    </tr>\n",
       "    <tr>\n",
       "      <th>cvd</th>\n",
       "      <td>0</td>\n",
       "      <td>0</td>\n",
       "      <td>0</td>\n",
       "      <td>0</td>\n",
       "      <td>0</td>\n",
       "      <td>0</td>\n",
       "      <td>0</td>\n",
       "      <td>0</td>\n",
       "      <td>0</td>\n",
       "      <td>0</td>\n",
       "    </tr>\n",
       "    <tr>\n",
       "      <th>chf</th>\n",
       "      <td>1</td>\n",
       "      <td>0</td>\n",
       "      <td>1</td>\n",
       "      <td>1</td>\n",
       "      <td>0</td>\n",
       "      <td>1</td>\n",
       "      <td>1</td>\n",
       "      <td>0</td>\n",
       "      <td>0</td>\n",
       "      <td>0</td>\n",
       "    </tr>\n",
       "    <tr>\n",
       "      <th>htn</th>\n",
       "      <td>0</td>\n",
       "      <td>1</td>\n",
       "      <td>1</td>\n",
       "      <td>1</td>\n",
       "      <td>0</td>\n",
       "      <td>0</td>\n",
       "      <td>0</td>\n",
       "      <td>0</td>\n",
       "      <td>1</td>\n",
       "      <td>0</td>\n",
       "    </tr>\n",
       "    <tr>\n",
       "      <th>dm</th>\n",
       "      <td>0</td>\n",
       "      <td>0</td>\n",
       "      <td>0</td>\n",
       "      <td>0</td>\n",
       "      <td>0</td>\n",
       "      <td>0</td>\n",
       "      <td>0</td>\n",
       "      <td>0</td>\n",
       "      <td>0</td>\n",
       "      <td>0</td>\n",
       "    </tr>\n",
       "    <tr>\n",
       "      <th>cad</th>\n",
       "      <td>1</td>\n",
       "      <td>1</td>\n",
       "      <td>1</td>\n",
       "      <td>1</td>\n",
       "      <td>1</td>\n",
       "      <td>1</td>\n",
       "      <td>1</td>\n",
       "      <td>1</td>\n",
       "      <td>1</td>\n",
       "      <td>0</td>\n",
       "    </tr>\n",
       "    <tr>\n",
       "      <th>pvd</th>\n",
       "      <td>1</td>\n",
       "      <td>1</td>\n",
       "      <td>0</td>\n",
       "      <td>0</td>\n",
       "      <td>0</td>\n",
       "      <td>0</td>\n",
       "      <td>0</td>\n",
       "      <td>0</td>\n",
       "      <td>1</td>\n",
       "      <td>1</td>\n",
       "    </tr>\n",
       "    <tr>\n",
       "      <th>copd</th>\n",
       "      <td>1</td>\n",
       "      <td>0</td>\n",
       "      <td>1</td>\n",
       "      <td>0</td>\n",
       "      <td>0</td>\n",
       "      <td>0</td>\n",
       "      <td>1</td>\n",
       "      <td>0</td>\n",
       "      <td>0</td>\n",
       "      <td>1</td>\n",
       "    </tr>\n",
       "    <tr>\n",
       "      <th>dep</th>\n",
       "      <td>0</td>\n",
       "      <td>1</td>\n",
       "      <td>1</td>\n",
       "      <td>0</td>\n",
       "      <td>0</td>\n",
       "      <td>1</td>\n",
       "      <td>1</td>\n",
       "      <td>0</td>\n",
       "      <td>1</td>\n",
       "      <td>0</td>\n",
       "    </tr>\n",
       "    <tr>\n",
       "      <th>anx</th>\n",
       "      <td>0</td>\n",
       "      <td>0</td>\n",
       "      <td>1</td>\n",
       "      <td>0</td>\n",
       "      <td>0</td>\n",
       "      <td>1</td>\n",
       "      <td>1</td>\n",
       "      <td>0</td>\n",
       "      <td>1</td>\n",
       "      <td>0</td>\n",
       "    </tr>\n",
       "    <tr>\n",
       "      <th>stratum</th>\n",
       "      <td>5</td>\n",
       "      <td>5</td>\n",
       "      <td>5</td>\n",
       "      <td>5</td>\n",
       "      <td>5</td>\n",
       "      <td>5</td>\n",
       "      <td>5</td>\n",
       "      <td>5</td>\n",
       "      <td>5</td>\n",
       "      <td>5</td>\n",
       "    </tr>\n",
       "    <tr>\n",
       "      <th>pt_tchgs</th>\n",
       "      <td>134563</td>\n",
       "      <td>97257</td>\n",
       "      <td>443741</td>\n",
       "      <td>246469</td>\n",
       "      <td>37968</td>\n",
       "      <td>53598</td>\n",
       "      <td>300396</td>\n",
       "      <td>19972</td>\n",
       "      <td>187290</td>\n",
       "      <td>41949</td>\n",
       "    </tr>\n",
       "    <tr>\n",
       "      <th>pt_losdy</th>\n",
       "      <td>25</td>\n",
       "      <td>18</td>\n",
       "      <td>30</td>\n",
       "      <td>26</td>\n",
       "      <td>2</td>\n",
       "      <td>8</td>\n",
       "      <td>24</td>\n",
       "      <td>4</td>\n",
       "      <td>15</td>\n",
       "      <td>3</td>\n",
       "    </tr>\n",
       "    <tr>\n",
       "      <th>pt_died</th>\n",
       "      <td>0</td>\n",
       "      <td>1</td>\n",
       "      <td>0</td>\n",
       "      <td>0</td>\n",
       "      <td>0</td>\n",
       "      <td>0</td>\n",
       "      <td>0</td>\n",
       "      <td>0</td>\n",
       "      <td>0</td>\n",
       "      <td>0</td>\n",
       "    </tr>\n",
       "    <tr>\n",
       "      <th>sex</th>\n",
       "      <td>2</td>\n",
       "      <td>1</td>\n",
       "      <td>2</td>\n",
       "      <td>2</td>\n",
       "      <td>1</td>\n",
       "      <td>1</td>\n",
       "      <td>2</td>\n",
       "      <td>2</td>\n",
       "      <td>2</td>\n",
       "      <td>1</td>\n",
       "    </tr>\n",
       "    <tr>\n",
       "      <th>newpayer</th>\n",
       "      <td>1</td>\n",
       "      <td>1</td>\n",
       "      <td>1</td>\n",
       "      <td>1</td>\n",
       "      <td>1</td>\n",
       "      <td>1</td>\n",
       "      <td>1</td>\n",
       "      <td>1</td>\n",
       "      <td>1</td>\n",
       "      <td>1</td>\n",
       "    </tr>\n",
       "    <tr>\n",
       "      <th>newrace</th>\n",
       "      <td>2</td>\n",
       "      <td>2</td>\n",
       "      <td>2</td>\n",
       "      <td>2</td>\n",
       "      <td>2</td>\n",
       "      <td>2</td>\n",
       "      <td>1</td>\n",
       "      <td>2</td>\n",
       "      <td>2</td>\n",
       "      <td>2</td>\n",
       "    </tr>\n",
       "    <tr>\n",
       "      <th>ptstate</th>\n",
       "      <td>1</td>\n",
       "      <td>1</td>\n",
       "      <td>1</td>\n",
       "      <td>1</td>\n",
       "      <td>1</td>\n",
       "      <td>1</td>\n",
       "      <td>2</td>\n",
       "      <td>1</td>\n",
       "      <td>1</td>\n",
       "      <td>1</td>\n",
       "    </tr>\n",
       "    <tr>\n",
       "      <th>Ethnicity</th>\n",
       "      <td>2</td>\n",
       "      <td>2</td>\n",
       "      <td>2</td>\n",
       "      <td>2</td>\n",
       "      <td>2</td>\n",
       "      <td>2</td>\n",
       "      <td>2</td>\n",
       "      <td>2</td>\n",
       "      <td>2</td>\n",
       "      <td>2</td>\n",
       "    </tr>\n",
       "  </tbody>\n",
       "</table>\n",
       "</div>"
      ],
      "text/plain": [
       "                      0             1             2             3  \\\n",
       "MASKSSN    MDA0MTQwNDgx  MDA0MTQxODc2  MDA0MjA0OTEz  MDA0MjA3NzM2   \n",
       "AGE                  93            94            85            88   \n",
       "ADMSRC               01            05            01            02   \n",
       "TYPE_SERV             1             1             1             1   \n",
       "ADM_PRIOR             3             1             3             3   \n",
       "hld                   1             0             1             1   \n",
       "tia                   1             0             1             0   \n",
       "Stroke                0             0             0             0   \n",
       "cvd                   0             0             0             0   \n",
       "chf                   1             0             1             1   \n",
       "htn                   0             1             1             1   \n",
       "dm                    0             0             0             0   \n",
       "cad                   1             1             1             1   \n",
       "pvd                   1             1             0             0   \n",
       "copd                  1             0             1             0   \n",
       "dep                   0             1             1             0   \n",
       "anx                   0             0             1             0   \n",
       "stratum               5             5             5             5   \n",
       "pt_tchgs         134563         97257        443741        246469   \n",
       "pt_losdy             25            18            30            26   \n",
       "pt_died               0             1             0             0   \n",
       "sex                   2             1             2             2   \n",
       "newpayer              1             1             1             1   \n",
       "newrace               2             2             2             2   \n",
       "ptstate               1             1             1             1   \n",
       "Ethnicity             2             2             2             2   \n",
       "\n",
       "                      4             5             6             7  \\\n",
       "MASKSSN    MDA0MjI0MzQ1  MDA0MjI2MjA5  MDA0MjIwMTkz  MDA0MjQzNDU2   \n",
       "AGE                  87            87            83            85   \n",
       "ADMSRC               01            01            01            01   \n",
       "TYPE_SERV             1             1             1             1   \n",
       "ADM_PRIOR             1             1             1             1   \n",
       "hld                   0             1             1             1   \n",
       "tia                   0             0             0             0   \n",
       "Stroke                0             0             0             0   \n",
       "cvd                   0             0             0             0   \n",
       "chf                   0             1             1             0   \n",
       "htn                   0             0             0             0   \n",
       "dm                    0             0             0             0   \n",
       "cad                   1             1             1             1   \n",
       "pvd                   0             0             0             0   \n",
       "copd                  0             0             1             0   \n",
       "dep                   0             1             1             0   \n",
       "anx                   0             1             1             0   \n",
       "stratum               5             5             5             5   \n",
       "pt_tchgs          37968         53598        300396         19972   \n",
       "pt_losdy              2             8            24             4   \n",
       "pt_died               0             0             0             0   \n",
       "sex                   1             1             2             2   \n",
       "newpayer              1             1             1             1   \n",
       "newrace               2             2             1             2   \n",
       "ptstate               1             1             2             1   \n",
       "Ethnicity             2             2             2             2   \n",
       "\n",
       "                      8             9  \n",
       "MASKSSN    MDA0MjY3NDMx  MDA0MjY4MjE1  \n",
       "AGE                  90            84  \n",
       "ADMSRC               01            01  \n",
       "TYPE_SERV             1             1  \n",
       "ADM_PRIOR             1             1  \n",
       "hld                   1             0  \n",
       "tia                   0             0  \n",
       "Stroke                0             0  \n",
       "cvd                   0             0  \n",
       "chf                   0             0  \n",
       "htn                   1             0  \n",
       "dm                    0             0  \n",
       "cad                   1             0  \n",
       "pvd                   1             1  \n",
       "copd                  0             1  \n",
       "dep                   1             0  \n",
       "anx                   1             0  \n",
       "stratum               5             5  \n",
       "pt_tchgs         187290         41949  \n",
       "pt_losdy             15             3  \n",
       "pt_died               0             0  \n",
       "sex                   2             1  \n",
       "newpayer              1             1  \n",
       "newrace               2             2  \n",
       "ptstate               1             1  \n",
       "Ethnicity             2             2  "
      ]
     },
     "execution_count": 480,
     "metadata": {},
     "output_type": "execute_result"
    }
   ],
   "source": [
    "df.head(10).T"
   ]
  },
  {
   "cell_type": "code",
   "execution_count": 481,
   "metadata": {},
   "outputs": [
    {
     "data": {
      "text/plain": [
       "Index([u'MASKSSN', u'AGE', u'ADMSRC', u'TYPE_SERV', u'ADM_PRIOR', u'hld',\n",
       "       u'tia', u'Stroke', u'cvd', u'chf', u'htn', u'dm', u'cad', u'pvd',\n",
       "       u'copd', u'dep', u'anx', u'stratum', u'pt_tchgs', u'pt_losdy',\n",
       "       u'pt_died', u'sex', u'newpayer', u'newrace', u'ptstate', u'Ethnicity'],\n",
       "      dtype='object')"
      ]
     },
     "execution_count": 481,
     "metadata": {},
     "output_type": "execute_result"
    }
   ],
   "source": [
    "df.columns"
   ]
  },
  {
   "cell_type": "code",
   "execution_count": 482,
   "metadata": {},
   "outputs": [
    {
     "name": "stdout",
     "output_type": "stream",
     "text": [
      "<class 'pandas.core.frame.DataFrame'>\n",
      "RangeIndex: 54895 entries, 0 to 54894\n",
      "Data columns (total 26 columns):\n",
      "MASKSSN      54895 non-null object\n",
      "AGE          54895 non-null int64\n",
      "ADMSRC       54895 non-null object\n",
      "TYPE_SERV    54895 non-null int64\n",
      "ADM_PRIOR    54895 non-null int64\n",
      "hld          54895 non-null int64\n",
      "tia          54895 non-null int64\n",
      "Stroke       54895 non-null int64\n",
      "cvd          54895 non-null int64\n",
      "chf          54895 non-null int64\n",
      "htn          54895 non-null int64\n",
      "dm           54895 non-null int64\n",
      "cad          54895 non-null int64\n",
      "pvd          54895 non-null int64\n",
      "copd         54895 non-null int64\n",
      "dep          54895 non-null int64\n",
      "anx          54895 non-null int64\n",
      "stratum      54895 non-null int64\n",
      "pt_tchgs     54895 non-null int64\n",
      "pt_losdy     54895 non-null int64\n",
      "pt_died      54895 non-null int64\n",
      "sex          54895 non-null int64\n",
      "newpayer     54895 non-null int64\n",
      "newrace      54895 non-null int64\n",
      "ptstate      54895 non-null int64\n",
      "Ethnicity    54895 non-null int64\n",
      "dtypes: int64(24), object(2)\n",
      "memory usage: 10.9+ MB\n",
      "None\n",
      "                AGE     TYPE_SERV     ADM_PRIOR           hld           tia  \\\n",
      "count  54895.000000  54895.000000  54895.000000  54895.000000  54895.000000   \n",
      "mean      70.392495      1.012752      1.428545      0.686930      0.171072   \n",
      "std       12.807419      0.112202      0.768304      0.463747      0.376575   \n",
      "min       40.000000      1.000000      1.000000      0.000000      0.000000   \n",
      "25%       61.000000      1.000000      1.000000      0.000000      0.000000   \n",
      "50%       72.000000      1.000000      1.000000      1.000000      0.000000   \n",
      "75%       80.000000      1.000000      2.000000      1.000000      0.000000   \n",
      "max      107.000000      2.000000      5.000000      1.000000      1.000000   \n",
      "\n",
      "             Stroke           cvd           chf           htn       dm  ...  \\\n",
      "count  54895.000000  54895.000000  54895.000000  54895.000000  54895.0  ...   \n",
      "mean       0.000073      0.009363      0.381565      0.643173      0.0  ...   \n",
      "std        0.008536      0.096311      0.485775      0.479067      0.0  ...   \n",
      "min        0.000000      0.000000      0.000000      0.000000      0.0  ...   \n",
      "25%        0.000000      0.000000      0.000000      0.000000      0.0  ...   \n",
      "50%        0.000000      0.000000      0.000000      1.000000      0.0  ...   \n",
      "75%        0.000000      0.000000      1.000000      1.000000      0.0  ...   \n",
      "max        1.000000      1.000000      1.000000      1.000000      0.0  ...   \n",
      "\n",
      "                anx       stratum      pt_tchgs      pt_losdy       pt_died  \\\n",
      "count  54895.000000  54895.000000  5.489500e+04  54895.000000  54895.000000   \n",
      "mean       0.309883      4.953238  1.823513e+05     14.269187      0.004773   \n",
      "std        0.462449      0.337613  2.149518e+05     18.745790      0.068921   \n",
      "min        0.000000      1.000000  9.190000e+02      1.000000      0.000000   \n",
      "25%        0.000000      5.000000  5.505750e+04      4.000000      0.000000   \n",
      "50%        0.000000      5.000000  1.149260e+05      8.000000      0.000000   \n",
      "75%        1.000000      5.000000  2.294790e+05     17.000000      0.000000   \n",
      "max        1.000000      5.000000  3.943848e+06    411.000000      1.000000   \n",
      "\n",
      "               sex      newpayer       newrace       ptstate     Ethnicity  \n",
      "count  54895.00000  54895.000000  54895.000000  54895.000000  54895.000000  \n",
      "mean       1.44913      1.077584      1.832353      1.014409      1.890136  \n",
      "std        0.49741      0.400626      0.388473      0.119172      0.354034  \n",
      "min        1.00000      0.000000      1.000000      1.000000      1.000000  \n",
      "25%        1.00000      1.000000      2.000000      1.000000      2.000000  \n",
      "50%        1.00000      1.000000      2.000000      1.000000      2.000000  \n",
      "75%        2.00000      1.000000      2.000000      1.000000      2.000000  \n",
      "max        2.00000      3.000000      3.000000      2.000000      3.000000  \n",
      "\n",
      "[8 rows x 24 columns]\n"
     ]
    }
   ],
   "source": [
    "# examine the data types and descriptive stats\n",
    "print(df.info())\n",
    "print(df.describe())\n",
    "# make a copy of the dataframe for preprocessing\n",
    "df = df.copy(deep=True)"
   ]
  },
  {
   "cell_type": "code",
   "execution_count": 483,
   "metadata": {},
   "outputs": [
    {
     "data": {
      "image/png": "[encoded data removed]",
      "text/plain": [
       "<Figure size 432x288 with 1 Axes>"
      ]
     },
     "metadata": {
      "needs_background": "light"
     },
     "output_type": "display_data"
    }
   ],
   "source": [
    "# Plot LOS Distribution\n",
    "plt.hist(df['pt_losdy'], bins=200, color = '#838B8B')\n",
    "plt.xlim(0, 120)\n",
    "plt.title('Distribution of LOS for all hospital admissions \\n incl. deceased')\n",
    "plt.ylabel('Count')\n",
    "plt.xlabel('Length-of-Stay (days)')\n",
    "plt.tick_params(top=False, right=False) \n",
    "plt.show();"
   ]
  },
  {
   "cell_type": "code",
   "execution_count": 484,
   "metadata": {},
   "outputs": [
    {
     "data": {
      "text/plain": [
       "MASKSSN      object\n",
       "AGE           int64\n",
       "ADMSRC       object\n",
       "TYPE_SERV     int64\n",
       "ADM_PRIOR     int64\n",
       "hld           int64\n",
       "tia           int64\n",
       "Stroke        int64\n",
       "cvd           int64\n",
       "chf           int64\n",
       "htn           int64\n",
       "dm            int64\n",
       "cad           int64\n",
       "pvd           int64\n",
       "copd          int64\n",
       "dep           int64\n",
       "anx           int64\n",
       "stratum       int64\n",
       "pt_tchgs      int64\n",
       "pt_losdy      int64\n",
       "pt_died       int64\n",
       "sex           int64\n",
       "newpayer      int64\n",
       "newrace       int64\n",
       "ptstate       int64\n",
       "Ethnicity     int64\n",
       "dtype: object"
      ]
     },
     "execution_count": 484,
     "metadata": {},
     "output_type": "execute_result"
    }
   ],
   "source": [
    "# pt_losdy != dischstat, pt_tchgs, pt_died, agegrp, and mortal_score\n",
    "\n",
    "df.dtypes"
   ]
  },
  {
   "cell_type": "code",
   "execution_count": 485,
   "metadata": {},
   "outputs": [],
   "source": [
    "i = ['MASKSSN', 'ADMSRC', 'TYPE_SERV', 'ADM_PRIOR', 'hld',\n",
    "       'tia', 'Stroke', 'cvd', 'chf', 'htn', 'dm', 'cad', 'pvd',\n",
    "       'copd', 'dep', 'anx', 'stratum', 'pt_died', 'sex', \n",
    "     'newpayer', 'newrace', 'ptstate', 'Ethnicity']\n",
    "\n",
    "df[i] = df[i].astype('object')"
   ]
  },
  {
   "cell_type": "code",
   "execution_count": 486,
   "metadata": {},
   "outputs": [
    {
     "data": {
      "text/plain": [
       "MASKSSN      object\n",
       "AGE           int64\n",
       "ADMSRC       object\n",
       "TYPE_SERV    object\n",
       "ADM_PRIOR    object\n",
       "hld          object\n",
       "tia          object\n",
       "Stroke       object\n",
       "cvd          object\n",
       "chf          object\n",
       "htn          object\n",
       "dm           object\n",
       "cad          object\n",
       "pvd          object\n",
       "copd         object\n",
       "dep          object\n",
       "anx          object\n",
       "stratum      object\n",
       "pt_tchgs      int64\n",
       "pt_losdy      int64\n",
       "pt_died      object\n",
       "sex          object\n",
       "newpayer     object\n",
       "newrace      object\n",
       "ptstate      object\n",
       "Ethnicity    object\n",
       "dtype: object"
      ]
     },
     "execution_count": 486,
     "metadata": {},
     "output_type": "execute_result"
    }
   ],
   "source": [
    "df.dtypes"
   ]
  },
  {
   "cell_type": "code",
   "execution_count": 487,
   "metadata": {},
   "outputs": [
    {
     "data": {
      "text/plain": [
       "count    54633.000000\n",
       "mean        14.220837\n",
       "std         18.721620\n",
       "min          1.000000\n",
       "25%          4.000000\n",
       "50%          8.000000\n",
       "75%         17.000000\n",
       "max        411.000000\n",
       "Name: pt_losdy, dtype: float64"
      ]
     },
     "execution_count": 487,
     "metadata": {},
     "output_type": "execute_result"
    }
   ],
   "source": [
    "# Look at statistics less admissions resulting in death\n",
    "df['pt_losdy'].loc[df['pt_died'] == 0].describe()"
   ]
  },
  {
   "cell_type": "code",
   "execution_count": 488,
   "metadata": {},
   "outputs": [
    {
     "name": "stdout",
     "output_type": "stream",
     "text": [
      "14.220837222923874\n",
      "8.0\n"
     ]
    }
   ],
   "source": [
    "# Hospital LOS metrics for later comparison\n",
    "actual_mean_los = df['pt_losdy'].loc[df['pt_died'] == 0].mean() \n",
    "actual_median_los = df['pt_losdy'].loc[df['pt_died'] == 0].median() \n",
    "\n",
    "print(actual_mean_los)\n",
    "print(actual_median_los)"
   ]
  },
  {
   "cell_type": "code",
   "execution_count": 489,
   "metadata": {},
   "outputs": [
    {
     "data": {
      "image/png": "[encoded data removed]",
      "text/plain": [
       "<Figure size 432x288 with 1 Axes>"
      ]
     },
     "metadata": {
      "needs_background": "light"
     },
     "output_type": "display_data"
    }
   ],
   "source": [
    "plt.hist(df['pt_losdy'].loc[df['pt_died'] == 0], bins=200, color = '#838B8B')\n",
    "plt.xlim(0, 120)\n",
    "plt.title('Distribution of LOS for hospital admissions')\n",
    "plt.ylabel('Count')\n",
    "plt.xlabel('Length-of-Stay (days)')\n",
    "plt.tick_params(top=False, right=False) \n",
    "plt.show();"
   ]
  },
  {
   "cell_type": "code",
   "execution_count": 490,
   "metadata": {},
   "outputs": [
    {
     "name": "stderr",
     "output_type": "stream",
     "text": [
      "/usr/local/lib/python2.7/site-packages/ipykernel_launcher.py:3: SettingWithCopyWarning: \n",
      "A value is trying to be set on a copy of a slice from a DataFrame\n",
      "\n",
      "See the caveats in the documentation: http://pandas.pydata.org/pandas-docs/stable/indexing.html#indexing-view-versus-copy\n",
      "  This is separate from the ipykernel package so we can avoid doing imports until\n",
      "/usr/local/lib/python2.7/site-packages/ipykernel_launcher.py:4: SettingWithCopyWarning: \n",
      "A value is trying to be set on a copy of a slice from a DataFrame\n",
      "\n",
      "See the caveats in the documentation: http://pandas.pydata.org/pandas-docs/stable/indexing.html#indexing-view-versus-copy\n",
      "  after removing the cwd from sys.path.\n",
      "/usr/local/lib/python2.7/site-packages/ipykernel_launcher.py:5: SettingWithCopyWarning: \n",
      "A value is trying to be set on a copy of a slice from a DataFrame\n",
      "\n",
      "See the caveats in the documentation: http://pandas.pydata.org/pandas-docs/stable/indexing.html#indexing-view-versus-copy\n",
      "  \"\"\"\n"
     ]
    },
    {
     "data": {
      "text/plain": [
       "Not_Hispanic      47352\n",
       "Hispanic_White     6787\n",
       "Unknown             756\n",
       "Name: Ethnicity, dtype: int64"
      ]
     },
     "execution_count": 490,
     "metadata": {},
     "output_type": "execute_result"
    }
   ],
   "source": [
    "# Rename the number of ethnicity categories\n",
    "\n",
    "df.Ethnicity[df.Ethnicity == 1] = 'Hispanic_White'\n",
    "df.Ethnicity[df.Ethnicity == 2] = 'Not_Hispanic'\n",
    "df.Ethnicity[df.Ethnicity == 3] = 'Unknown'\n",
    "\n",
    "df['Ethnicity'].value_counts()"
   ]
  },
  {
   "cell_type": "code",
   "execution_count": 491,
   "metadata": {},
   "outputs": [
    {
     "name": "stderr",
     "output_type": "stream",
     "text": [
      "/usr/local/lib/python2.7/site-packages/ipykernel_launcher.py:3: SettingWithCopyWarning: \n",
      "A value is trying to be set on a copy of a slice from a DataFrame\n",
      "\n",
      "See the caveats in the documentation: http://pandas.pydata.org/pandas-docs/stable/indexing.html#indexing-view-versus-copy\n",
      "  This is separate from the ipykernel package so we can avoid doing imports until\n",
      "/usr/local/lib/python2.7/site-packages/ipykernel_launcher.py:4: SettingWithCopyWarning: \n",
      "A value is trying to be set on a copy of a slice from a DataFrame\n",
      "\n",
      "See the caveats in the documentation: http://pandas.pydata.org/pandas-docs/stable/indexing.html#indexing-view-versus-copy\n",
      "  after removing the cwd from sys.path.\n",
      "/usr/local/lib/python2.7/site-packages/ipykernel_launcher.py:5: SettingWithCopyWarning: \n",
      "A value is trying to be set on a copy of a slice from a DataFrame\n",
      "\n",
      "See the caveats in the documentation: http://pandas.pydata.org/pandas-docs/stable/indexing.html#indexing-view-versus-copy\n",
      "  \"\"\"\n"
     ]
    },
    {
     "data": {
      "text/plain": [
       "White                     45068\n",
       "Black African American     9515\n",
       "All Others                  312\n",
       "Name: newrace, dtype: int64"
      ]
     },
     "execution_count": 491,
     "metadata": {},
     "output_type": "execute_result"
    }
   ],
   "source": [
    "# Rename the number of newrace categories\n",
    "\n",
    "df.newrace[df.newrace == 1] = 'Black African American'\n",
    "df.newrace[df.newrace == 2] = 'White'\n",
    "df.newrace[df.newrace == 3] = 'All Others'\n",
    "\n",
    "df['newrace'].value_counts()"
   ]
  },
  {
   "cell_type": "code",
   "execution_count": 492,
   "metadata": {},
   "outputs": [
    {
     "name": "stderr",
     "output_type": "stream",
     "text": [
      "/usr/local/lib/python2.7/site-packages/ipykernel_launcher.py:3: SettingWithCopyWarning: \n",
      "A value is trying to be set on a copy of a slice from a DataFrame\n",
      "\n",
      "See the caveats in the documentation: http://pandas.pydata.org/pandas-docs/stable/indexing.html#indexing-view-versus-copy\n",
      "  This is separate from the ipykernel package so we can avoid doing imports until\n",
      "/usr/local/lib/python2.7/site-packages/ipykernel_launcher.py:4: SettingWithCopyWarning: \n",
      "A value is trying to be set on a copy of a slice from a DataFrame\n",
      "\n",
      "See the caveats in the documentation: http://pandas.pydata.org/pandas-docs/stable/indexing.html#indexing-view-versus-copy\n",
      "  after removing the cwd from sys.path.\n",
      "/usr/local/lib/python2.7/site-packages/ipykernel_launcher.py:5: SettingWithCopyWarning: \n",
      "A value is trying to be set on a copy of a slice from a DataFrame\n",
      "\n",
      "See the caveats in the documentation: http://pandas.pydata.org/pandas-docs/stable/indexing.html#indexing-view-versus-copy\n",
      "  \"\"\"\n",
      "/usr/local/lib/python2.7/site-packages/ipykernel_launcher.py:6: SettingWithCopyWarning: \n",
      "A value is trying to be set on a copy of a slice from a DataFrame\n",
      "\n",
      "See the caveats in the documentation: http://pandas.pydata.org/pandas-docs/stable/indexing.html#indexing-view-versus-copy\n",
      "  \n",
      "/usr/local/lib/python2.7/site-packages/ipykernel_launcher.py:7: SettingWithCopyWarning: \n",
      "A value is trying to be set on a copy of a slice from a DataFrame\n",
      "\n",
      "See the caveats in the documentation: http://pandas.pydata.org/pandas-docs/stable/indexing.html#indexing-view-versus-copy\n",
      "  import sys\n"
     ]
    },
    {
     "data": {
      "text/plain": [
       "Co-occurring IHD Cases    53588\n",
       "Other IHD Cases             667\n",
       "AMI                         570\n",
       "Post AMI Complication        45\n",
       "Angina Pectoris              25\n",
       "Name: stratum, dtype: int64"
      ]
     },
     "execution_count": 492,
     "metadata": {},
     "output_type": "execute_result"
    }
   ],
   "source": [
    "# Rename the number of stratum categories\n",
    "\n",
    "df.stratum[df.stratum == 1] = 'Angina Pectoris'\n",
    "df.stratum[df.stratum == 2] = 'AMI'\n",
    "df.stratum[df.stratum == 3] = 'Post AMI Complication'\n",
    "df.stratum[df.stratum == 4] = 'Other IHD Cases'\n",
    "df.stratum[df.stratum == 5] = 'Co-occurring IHD Cases'\n",
    "\n",
    "df['stratum'].value_counts()"
   ]
  },
  {
   "cell_type": "code",
   "execution_count": 493,
   "metadata": {},
   "outputs": [
    {
     "data": {
      "image/png": "[encoded data removed]",
      "text/plain": [
       "<Figure size 576x288 with 1 Axes>"
      ]
     },
     "metadata": {
      "needs_background": "light"
     },
     "output_type": "display_data"
    },
    {
     "data": {
      "image/png": "[encoded data removed]",
      "text/plain": [
       "<Figure size 576x288 with 1 Axes>"
      ]
     },
     "metadata": {
      "needs_background": "light"
     },
     "output_type": "display_data"
    },
    {
     "data": {
      "image/png": "[encoded data removed]",
      "text/plain": [
       "<Figure size 576x288 with 1 Axes>"
      ]
     },
     "metadata": {
      "needs_background": "light"
     },
     "output_type": "display_data"
    }
   ],
   "source": [
    "# Re-usable plotting function\n",
    "def plot_los_groupby(variable, size=(7,4)):\n",
    "    ''' \n",
    "    Plot Median LOS by df categorical series name \n",
    "    '''\n",
    "    results = df[[variable, 'pt_losdy']].groupby(variable).median().reset_index()\n",
    "    values = list(results['pt_losdy'].values)\n",
    "    labels = list(results[variable].values)\n",
    "\n",
    "    fig, ax = plt.subplots(figsize=size)\n",
    "    ind = range(len(results))\n",
    "    ax.barh(ind, values, align='center', height=0.6, color = '#55a868', alpha=0.8)\n",
    "    ax.set_yticks(ind)\n",
    "    ax.set_yticklabels(labels)\n",
    "    ax.set_xlabel('Median Length of Stay (days)')\n",
    "    ax.tick_params(left=False, top=False, right=False) \n",
    "    ax.set_title('Comparison of {} labels'.format(variable))\n",
    "    \n",
    "    plt.tight_layout()\n",
    "    plt.show();\n",
    "    \n",
    "# Re-usable boxplot function\n",
    "def boxplot_los_groupby(variable, los_range=(-1, 30), size=(8,4)):\n",
    "    ''' \n",
    "    Boxplot of LOS by df categorical series name \n",
    "    '''\n",
    "    results = df[[variable, 'pt_losdy']].groupby(variable).median().reset_index()\n",
    "\n",
    "    categories = results[variable].values.tolist()\n",
    "\n",
    "    hist_data = []\n",
    "    for cat in categories:\n",
    "        hist_data.append(df['pt_losdy'].loc[df[variable]==cat].values)\n",
    "\n",
    "    fig, ax = plt.subplots(figsize=size)\n",
    "    ax.boxplot(hist_data, 0, '', vert=False)\n",
    "    ax.set_xlim(los_range)\n",
    "    ax.set_yticklabels(categories)\n",
    "    ax.set_xlabel('Length of Stay (days)')\n",
    "    ax.tick_params(left=False, right=False) \n",
    "    ax.set_title('Comparison of {} categories'.format(variable))\n",
    "    plt.tight_layout()\n",
    "    plt.show();\n",
    "\n",
    "boxplot_los_groupby('Ethnicity', los_range=(-1, 50))\n",
    "boxplot_los_groupby('newrace', los_range=(-1, 50))\n",
    "boxplot_los_groupby('stratum', los_range=(-1, 50))"
   ]
  },
  {
   "cell_type": "code",
   "execution_count": 494,
   "metadata": {},
   "outputs": [
    {
     "name": "stderr",
     "output_type": "stream",
     "text": [
      "/usr/local/lib/python2.7/site-packages/ipykernel_launcher.py:3: SettingWithCopyWarning: \n",
      "A value is trying to be set on a copy of a slice from a DataFrame\n",
      "\n",
      "See the caveats in the documentation: http://pandas.pydata.org/pandas-docs/stable/indexing.html#indexing-view-versus-copy\n",
      "  This is separate from the ipykernel package so we can avoid doing imports until\n",
      "/usr/local/lib/python2.7/site-packages/ipykernel_launcher.py:4: SettingWithCopyWarning: \n",
      "A value is trying to be set on a copy of a slice from a DataFrame\n",
      "\n",
      "See the caveats in the documentation: http://pandas.pydata.org/pandas-docs/stable/indexing.html#indexing-view-versus-copy\n",
      "  after removing the cwd from sys.path.\n",
      "/usr/local/lib/python2.7/site-packages/ipykernel_launcher.py:5: SettingWithCopyWarning: \n",
      "A value is trying to be set on a copy of a slice from a DataFrame\n",
      "\n",
      "See the caveats in the documentation: http://pandas.pydata.org/pandas-docs/stable/indexing.html#indexing-view-versus-copy\n",
      "  \"\"\"\n",
      "/usr/local/lib/python2.7/site-packages/ipykernel_launcher.py:11: SettingWithCopyWarning: \n",
      "A value is trying to be set on a copy of a slice from a DataFrame\n",
      "\n",
      "See the caveats in the documentation: http://pandas.pydata.org/pandas-docs/stable/indexing.html#indexing-view-versus-copy\n",
      "  # This is added back by InteractiveShellApp.init_path()\n",
      "/usr/local/lib/python2.7/site-packages/ipykernel_launcher.py:12: SettingWithCopyWarning: \n",
      "A value is trying to be set on a copy of a slice from a DataFrame\n",
      "\n",
      "See the caveats in the documentation: http://pandas.pydata.org/pandas-docs/stable/indexing.html#indexing-view-versus-copy\n",
      "  if sys.path[0] == '':\n",
      "/usr/local/lib/python2.7/site-packages/ipykernel_launcher.py:13: SettingWithCopyWarning: \n",
      "A value is trying to be set on a copy of a slice from a DataFrame\n",
      "\n",
      "See the caveats in the documentation: http://pandas.pydata.org/pandas-docs/stable/indexing.html#indexing-view-versus-copy\n",
      "  del sys.path[0]\n",
      "/usr/local/lib/python2.7/site-packages/ipykernel_launcher.py:19: SettingWithCopyWarning: \n",
      "A value is trying to be set on a copy of a slice from a DataFrame\n",
      "\n",
      "See the caveats in the documentation: http://pandas.pydata.org/pandas-docs/stable/indexing.html#indexing-view-versus-copy\n",
      "/usr/local/lib/python2.7/site-packages/ipykernel_launcher.py:20: SettingWithCopyWarning: \n",
      "A value is trying to be set on a copy of a slice from a DataFrame\n",
      "\n",
      "See the caveats in the documentation: http://pandas.pydata.org/pandas-docs/stable/indexing.html#indexing-view-versus-copy\n",
      "/usr/local/lib/python2.7/site-packages/ipykernel_launcher.py:21: SettingWithCopyWarning: \n",
      "A value is trying to be set on a copy of a slice from a DataFrame\n",
      "\n",
      "See the caveats in the documentation: http://pandas.pydata.org/pandas-docs/stable/indexing.html#indexing-view-versus-copy\n",
      "/usr/local/lib/python2.7/site-packages/ipykernel_launcher.py:22: SettingWithCopyWarning: \n",
      "A value is trying to be set on a copy of a slice from a DataFrame\n",
      "\n",
      "See the caveats in the documentation: http://pandas.pydata.org/pandas-docs/stable/indexing.html#indexing-view-versus-copy\n",
      "/usr/local/lib/python2.7/site-packages/ipykernel_launcher.py:23: SettingWithCopyWarning: \n",
      "A value is trying to be set on a copy of a slice from a DataFrame\n",
      "\n",
      "See the caveats in the documentation: http://pandas.pydata.org/pandas-docs/stable/indexing.html#indexing-view-versus-copy\n"
     ]
    },
    {
     "data": {
      "text/plain": [
       "5    53588\n",
       "4      667\n",
       "2      570\n",
       "3       45\n",
       "1       25\n",
       "Name: stratum, dtype: int64"
      ]
     },
     "execution_count": 494,
     "metadata": {},
     "output_type": "execute_result"
    }
   ],
   "source": [
    "# Rename the number of ethnicity categories\n",
    "\n",
    "df.Ethnicity[df.Ethnicity == 'Hispanic_White'] = 1\n",
    "df.Ethnicity[df.Ethnicity == 'Not_Hispanic'] = 2\n",
    "df.Ethnicity[df.Ethnicity == 'Unknown'] = 3\n",
    "\n",
    "df['Ethnicity'].value_counts()\n",
    "\n",
    "# Rename the number of newrace categories\n",
    "\n",
    "df.newrace[df.newrace == 'Black African American'] = 1\n",
    "df.newrace[df.newrace == 'White'] = 2\n",
    "df.newrace[df.newrace == 'All Others'] = 3\n",
    "\n",
    "df['newrace'].value_counts()\n",
    "\n",
    "# Rename the number of stratum categories\n",
    "\n",
    "df.stratum[df.stratum == 'Angina Pectoris'] = 1\n",
    "df.stratum[df.stratum == 'AMI'] = 2\n",
    "df.stratum[df.stratum == 'Post AMI Complication'] = 3\n",
    "df.stratum[df.stratum == 'Other IHD Cases'] = 4\n",
    "df.stratum[df.stratum == 'Co-occurring IHD Cases'] = 5\n",
    "\n",
    "df['stratum'].value_counts()"
   ]
  },
  {
   "cell_type": "code",
   "execution_count": 495,
   "metadata": {},
   "outputs": [],
   "source": [
    "L1 = np.random.randint(1,10,20)\n",
    "L2 = np.random.randint(1,20, 20)\n",
    "\n",
    "datframe = pd.DataFrame()\n",
    "datframe['L1'] = L1\n",
    "datframe['L2'] = L2"
   ]
  },
  {
   "cell_type": "code",
   "execution_count": 496,
   "metadata": {},
   "outputs": [
    {
     "data": {
      "text/html": [
       "<div>\n",
       "<style scoped>\n",
       "    .dataframe tbody tr th:only-of-type {\n",
       "        vertical-align: middle;\n",
       "    }\n",
       "\n",
       "    .dataframe tbody tr th {\n",
       "        vertical-align: top;\n",
       "    }\n",
       "\n",
       "    .dataframe thead th {\n",
       "        text-align: right;\n",
       "    }\n",
       "</style>\n",
       "<table border=\"1\" class=\"dataframe\">\n",
       "  <thead>\n",
       "    <tr style=\"text-align: right;\">\n",
       "      <th></th>\n",
       "      <th>L1</th>\n",
       "      <th>L2</th>\n",
       "    </tr>\n",
       "  </thead>\n",
       "  <tbody>\n",
       "    <tr>\n",
       "      <th>L1</th>\n",
       "      <td>1.000000</td>\n",
       "      <td>0.331288</td>\n",
       "    </tr>\n",
       "    <tr>\n",
       "      <th>L2</th>\n",
       "      <td>0.331288</td>\n",
       "      <td>1.000000</td>\n",
       "    </tr>\n",
       "  </tbody>\n",
       "</table>\n",
       "</div>"
      ],
      "text/plain": [
       "          L1        L2\n",
       "L1  1.000000  0.331288\n",
       "L2  0.331288  1.000000"
      ]
     },
     "execution_count": 496,
     "metadata": {},
     "output_type": "execute_result"
    }
   ],
   "source": [
    "datframe.corr()"
   ]
  },
  {
   "cell_type": "code",
   "execution_count": 497,
   "metadata": {},
   "outputs": [
    {
     "name": "stderr",
     "output_type": "stream",
     "text": [
      "/Users/v.diaby/Library/Python/2.7/lib/python/site-packages/sklearn/preprocessing/data.py:334: DataConversionWarning: Data with input dtype int64 were all converted to float64 by MinMaxScaler.\n",
      "  return self.partial_fit(X, y)\n"
     ]
    },
    {
     "data": {
      "text/html": [
       "<div>\n",
       "<style scoped>\n",
       "    .dataframe tbody tr th:only-of-type {\n",
       "        vertical-align: middle;\n",
       "    }\n",
       "\n",
       "    .dataframe tbody tr th {\n",
       "        vertical-align: top;\n",
       "    }\n",
       "\n",
       "    .dataframe thead th {\n",
       "        text-align: right;\n",
       "    }\n",
       "</style>\n",
       "<table border=\"1\" class=\"dataframe\">\n",
       "  <thead>\n",
       "    <tr style=\"text-align: right;\">\n",
       "      <th></th>\n",
       "      <th>L1</th>\n",
       "      <th>L2</th>\n",
       "    </tr>\n",
       "  </thead>\n",
       "  <tbody>\n",
       "    <tr>\n",
       "      <th>L1</th>\n",
       "      <td>1.000000</td>\n",
       "      <td>0.331288</td>\n",
       "    </tr>\n",
       "    <tr>\n",
       "      <th>L2</th>\n",
       "      <td>0.331288</td>\n",
       "      <td>1.000000</td>\n",
       "    </tr>\n",
       "  </tbody>\n",
       "</table>\n",
       "</div>"
      ],
      "text/plain": [
       "          L1        L2\n",
       "L1  1.000000  0.331288\n",
       "L2  0.331288  1.000000"
      ]
     },
     "execution_count": 497,
     "metadata": {},
     "output_type": "execute_result"
    }
   ],
   "source": [
    "scaler = MinMaxScaler()\n",
    "datframe = pd.DataFrame(scaler.fit_transform(datframe), columns = ['L1', 'L2'])\n",
    "datframe.corr()"
   ]
  },
  {
   "cell_type": "code",
   "execution_count": 498,
   "metadata": {},
   "outputs": [],
   "source": [
    "i = ['MASKSSN', 'ADMSRC', 'TYPE_SERV', 'ADM_PRIOR', 'hld',\n",
    "       'tia', 'Stroke', 'cvd', 'chf', 'htn', 'dm', 'cad', 'pvd',\n",
    "       'copd', 'dep', 'anx', 'stratum', 'pt_died', 'sex', \n",
    "     'newpayer', 'newrace', 'ptstate', 'Ethnicity']\n",
    "\n",
    "df[i] = df[i].astype('object')"
   ]
  },
  {
   "cell_type": "code",
   "execution_count": 499,
   "metadata": {},
   "outputs": [],
   "source": [
    "# get list of only numeric features\n",
    "num_col = list(set(list(df._get_numeric_data().columns)))"
   ]
  },
  {
   "cell_type": "code",
   "execution_count": 500,
   "metadata": {},
   "outputs": [
    {
     "data": {
      "text/plain": [
       "['AGE', 'pt_tchgs', 'pt_losdy']"
      ]
     },
     "execution_count": 500,
     "metadata": {},
     "output_type": "execute_result"
    }
   ],
   "source": [
    "num_col"
   ]
  },
  {
   "cell_type": "code",
   "execution_count": 501,
   "metadata": {},
   "outputs": [],
   "source": [
    "statdataframe = pd.DataFrame()\n",
    "statdataframe['numeric_column'] = num_col\n",
    "skew_before = []\n",
    "skew_after = []\n",
    "\n",
    "kurt_before = []\n",
    "kurt_after = []\n",
    "\n",
    "standard_deviation_before = []\n",
    "standard_deviation_after = []\n",
    "\n",
    "log_transform_needed = []\n",
    "\n",
    "log_type = []\n",
    "\n",
    "for i in num_col:\n",
    "    skewval = df[i].skew()\n",
    "    skew_before.append(skewval)\n",
    "    \n",
    "    kurtval = df[i].kurtosis()\n",
    "    kurt_before.append(kurtval)\n",
    "    \n",
    "    sdval = df[i].std()\n",
    "    standard_deviation_before.append(sdval)    \n",
    "    \n",
    "    if (abs(skewval) >2) & (abs(kurtval) >2):\n",
    "        log_transform_needed.append('Yes')\n",
    "        \n",
    "        if len(df[df[i] == 0])/len(df) <=0.02:\n",
    "            log_type.append('log')\n",
    "            skewvalnew = np.log(pd.DataFrame(df[df[i] >= 0])[i]).skew()\n",
    "            skew_after.append(skewvalnew)\n",
    "            \n",
    "            kurtvalnew = np.log(pd.DataFrame(df[df[i] >= 0])[i]).kurtosis()\n",
    "            kurt_after.append(kurtvalnew)\n",
    "            \n",
    "            sdvalnew = np.log(pd.DataFrame(df[df[i] >= 0])[i]).std()\n",
    "            standard_deviation_after.append(sdvalnew)\n",
    "            \n",
    "        else:\n",
    "            log_type.append('log1p')\n",
    "            skewvalnew = np.log1p(pd.DataFrame(df[df[i] >= 0])[i]).skew()\n",
    "            skew_after.append(skewvalnew)\n",
    "        \n",
    "            kurtvalnew = np.log1p(pd.DataFrame(df[df[i] >= 0])[i]).kurtosis()\n",
    "            kurt_after.append(kurtvalnew)\n",
    "            \n",
    "            sdvalnew = np.log1p(pd.DataFrame(df[df[i] >= 0])[i]).std()\n",
    "            standard_deviation_after.append(sdvalnew)\n",
    "            \n",
    "    else:\n",
    "        log_type.append('NA')\n",
    "        log_transform_needed.append('No')\n",
    "        \n",
    "        skew_after.append(skewval)\n",
    "        kurt_after.append(kurtval)\n",
    "        standard_deviation_after.append(sdval)\n",
    "\n",
    "statdataframe['skew_before'] = skew_before\n",
    "statdataframe['kurtosis_before'] = kurt_before\n",
    "statdataframe['standard_deviation_before'] = standard_deviation_before\n",
    "statdataframe['log_transform_needed'] = log_transform_needed\n",
    "statdataframe['log_type'] = log_type\n",
    "statdataframe['skew_after'] = skew_after\n",
    "statdataframe['kurtosis_after'] = kurt_after\n",
    "statdataframe['standard_deviation_after'] = standard_deviation_after"
   ]
  },
  {
   "cell_type": "code",
   "execution_count": 502,
   "metadata": {},
   "outputs": [
    {
     "data": {
      "text/html": [
       "<div>\n",
       "<style scoped>\n",
       "    .dataframe tbody tr th:only-of-type {\n",
       "        vertical-align: middle;\n",
       "    }\n",
       "\n",
       "    .dataframe tbody tr th {\n",
       "        vertical-align: top;\n",
       "    }\n",
       "\n",
       "    .dataframe thead th {\n",
       "        text-align: right;\n",
       "    }\n",
       "</style>\n",
       "<table border=\"1\" class=\"dataframe\">\n",
       "  <thead>\n",
       "    <tr style=\"text-align: right;\">\n",
       "      <th></th>\n",
       "      <th>numeric_column</th>\n",
       "      <th>skew_before</th>\n",
       "      <th>kurtosis_before</th>\n",
       "      <th>standard_deviation_before</th>\n",
       "      <th>log_transform_needed</th>\n",
       "      <th>log_type</th>\n",
       "      <th>skew_after</th>\n",
       "      <th>kurtosis_after</th>\n",
       "      <th>standard_deviation_after</th>\n",
       "    </tr>\n",
       "  </thead>\n",
       "  <tbody>\n",
       "    <tr>\n",
       "      <th>0</th>\n",
       "      <td>AGE</td>\n",
       "      <td>-0.277200</td>\n",
       "      <td>-0.680135</td>\n",
       "      <td>12.807419</td>\n",
       "      <td>No</td>\n",
       "      <td>NA</td>\n",
       "      <td>-0.277200</td>\n",
       "      <td>-0.680135</td>\n",
       "      <td>12.807419</td>\n",
       "    </tr>\n",
       "    <tr>\n",
       "      <th>1</th>\n",
       "      <td>pt_tchgs</td>\n",
       "      <td>3.831940</td>\n",
       "      <td>26.712384</td>\n",
       "      <td>214951.766849</td>\n",
       "      <td>Yes</td>\n",
       "      <td>log</td>\n",
       "      <td>-0.167591</td>\n",
       "      <td>-0.164398</td>\n",
       "      <td>1.039325</td>\n",
       "    </tr>\n",
       "    <tr>\n",
       "      <th>2</th>\n",
       "      <td>pt_losdy</td>\n",
       "      <td>4.266895</td>\n",
       "      <td>32.892266</td>\n",
       "      <td>18.745790</td>\n",
       "      <td>Yes</td>\n",
       "      <td>log</td>\n",
       "      <td>0.019736</td>\n",
       "      <td>-0.429656</td>\n",
       "      <td>1.082539</td>\n",
       "    </tr>\n",
       "  </tbody>\n",
       "</table>\n",
       "</div>"
      ],
      "text/plain": [
       "  numeric_column  skew_before  kurtosis_before  standard_deviation_before  \\\n",
       "0            AGE    -0.277200        -0.680135                  12.807419   \n",
       "1       pt_tchgs     3.831940        26.712384              214951.766849   \n",
       "2       pt_losdy     4.266895        32.892266                  18.745790   \n",
       "\n",
       "  log_transform_needed log_type  skew_after  kurtosis_after  \\\n",
       "0                   No       NA   -0.277200       -0.680135   \n",
       "1                  Yes      log   -0.167591       -0.164398   \n",
       "2                  Yes      log    0.019736       -0.429656   \n",
       "\n",
       "   standard_deviation_after  \n",
       "0                 12.807419  \n",
       "1                  1.039325  \n",
       "2                  1.082539  "
      ]
     },
     "execution_count": 502,
     "metadata": {},
     "output_type": "execute_result"
    }
   ],
   "source": [
    "statdataframe"
   ]
  },
  {
   "cell_type": "code",
   "execution_count": 503,
   "metadata": {},
   "outputs": [],
   "source": [
    "# performing the log transformation for the columns determined to be needing it above.\n",
    "\n",
    "for i in range(len(statdataframe)):\n",
    "    if statdataframe['log_transform_needed'][i] == 'Yes':\n",
    "        colname = str(statdataframe['numeric_column'][i])\n",
    "        \n",
    "        if statdataframe['log_type'][i] == 'log':\n",
    "            df = df[df[colname] > 0]\n",
    "            df[colname + \"_log\"] = np.log(df[colname])\n",
    "            \n",
    "        elif statdataframe['log_type'][i] == 'log1p':\n",
    "            df = df[df[colname] >= 0]\n",
    "            df[colname + \"_log1p\"] = np.log1p(df[colname])"
   ]
  },
  {
   "cell_type": "code",
   "execution_count": 504,
   "metadata": {},
   "outputs": [],
   "source": [
    "df = df.drop(['pt_losdy', 'pt_tchgs'], axis = 1)"
   ]
  },
  {
   "cell_type": "code",
   "execution_count": 505,
   "metadata": {},
   "outputs": [
    {
     "data": {
      "image/png": "[encoded data removed]",
      "text/plain": [
       "<Figure size 432x288 with 1 Axes>"
      ]
     },
     "metadata": {
      "needs_background": "light"
     },
     "output_type": "display_data"
    }
   ],
   "source": [
    "plt.hist(df['pt_losdy_log'].loc[df['pt_died'] == 0], bins=200, color = '#838B8B')\n",
    "plt.xlim(-2, 8)\n",
    "plt.title('Distribution of LOS for hospital admissions')\n",
    "plt.ylabel('Count')\n",
    "plt.xlabel('Length-of-Stay (log)')\n",
    "plt.tick_params(top=False, right=False) \n",
    "plt.show();"
   ]
  },
  {
   "cell_type": "code",
   "execution_count": 506,
   "metadata": {},
   "outputs": [
    {
     "data": {
      "text/plain": [
       "(54895, 26)"
      ]
     },
     "execution_count": 506,
     "metadata": {},
     "output_type": "execute_result"
    }
   ],
   "source": [
    "df.shape"
   ]
  },
  {
   "cell_type": "code",
   "execution_count": 507,
   "metadata": {},
   "outputs": [],
   "source": [
    "# get list of only numeric features\n",
    "numerics = list(set(list(df._get_numeric_data().columns)))"
   ]
  },
  {
   "cell_type": "code",
   "execution_count": 508,
   "metadata": {},
   "outputs": [
    {
     "data": {
      "text/plain": [
       "['pt_losdy_log', 'AGE', 'pt_tchgs_log']"
      ]
     },
     "execution_count": 508,
     "metadata": {},
     "output_type": "execute_result"
    }
   ],
   "source": [
    "numerics"
   ]
  },
  {
   "cell_type": "code",
   "execution_count": 509,
   "metadata": {},
   "outputs": [
    {
     "data": {
      "text/html": [
       "<div>\n",
       "<style scoped>\n",
       "    .dataframe tbody tr th:only-of-type {\n",
       "        vertical-align: middle;\n",
       "    }\n",
       "\n",
       "    .dataframe tbody tr th {\n",
       "        vertical-align: top;\n",
       "    }\n",
       "\n",
       "    .dataframe thead th {\n",
       "        text-align: right;\n",
       "    }\n",
       "</style>\n",
       "<table border=\"1\" class=\"dataframe\">\n",
       "  <thead>\n",
       "    <tr style=\"text-align: right;\">\n",
       "      <th></th>\n",
       "      <th>MASKSSN</th>\n",
       "      <th>AGE</th>\n",
       "      <th>ADMSRC</th>\n",
       "      <th>TYPE_SERV</th>\n",
       "      <th>ADM_PRIOR</th>\n",
       "      <th>hld</th>\n",
       "      <th>tia</th>\n",
       "      <th>Stroke</th>\n",
       "      <th>cvd</th>\n",
       "      <th>chf</th>\n",
       "      <th>...</th>\n",
       "      <th>anx</th>\n",
       "      <th>stratum</th>\n",
       "      <th>pt_died</th>\n",
       "      <th>sex</th>\n",
       "      <th>newpayer</th>\n",
       "      <th>newrace</th>\n",
       "      <th>ptstate</th>\n",
       "      <th>Ethnicity</th>\n",
       "      <th>pt_tchgs_log</th>\n",
       "      <th>pt_losdy_log</th>\n",
       "    </tr>\n",
       "  </thead>\n",
       "  <tbody>\n",
       "    <tr>\n",
       "      <th>0</th>\n",
       "      <td>MDA0MTQwNDgx</td>\n",
       "      <td>93</td>\n",
       "      <td>01</td>\n",
       "      <td>1</td>\n",
       "      <td>3</td>\n",
       "      <td>1</td>\n",
       "      <td>1</td>\n",
       "      <td>0</td>\n",
       "      <td>0</td>\n",
       "      <td>1</td>\n",
       "      <td>...</td>\n",
       "      <td>0</td>\n",
       "      <td>5</td>\n",
       "      <td>0</td>\n",
       "      <td>2</td>\n",
       "      <td>1</td>\n",
       "      <td>2</td>\n",
       "      <td>1</td>\n",
       "      <td>2</td>\n",
       "      <td>11.809788</td>\n",
       "      <td>3.218876</td>\n",
       "    </tr>\n",
       "    <tr>\n",
       "      <th>1</th>\n",
       "      <td>MDA0MTQxODc2</td>\n",
       "      <td>94</td>\n",
       "      <td>05</td>\n",
       "      <td>1</td>\n",
       "      <td>1</td>\n",
       "      <td>0</td>\n",
       "      <td>0</td>\n",
       "      <td>0</td>\n",
       "      <td>0</td>\n",
       "      <td>0</td>\n",
       "      <td>...</td>\n",
       "      <td>0</td>\n",
       "      <td>5</td>\n",
       "      <td>1</td>\n",
       "      <td>1</td>\n",
       "      <td>1</td>\n",
       "      <td>2</td>\n",
       "      <td>1</td>\n",
       "      <td>2</td>\n",
       "      <td>11.485112</td>\n",
       "      <td>2.890372</td>\n",
       "    </tr>\n",
       "    <tr>\n",
       "      <th>2</th>\n",
       "      <td>MDA0MjA0OTEz</td>\n",
       "      <td>85</td>\n",
       "      <td>01</td>\n",
       "      <td>1</td>\n",
       "      <td>3</td>\n",
       "      <td>1</td>\n",
       "      <td>1</td>\n",
       "      <td>0</td>\n",
       "      <td>0</td>\n",
       "      <td>1</td>\n",
       "      <td>...</td>\n",
       "      <td>1</td>\n",
       "      <td>5</td>\n",
       "      <td>0</td>\n",
       "      <td>2</td>\n",
       "      <td>1</td>\n",
       "      <td>2</td>\n",
       "      <td>1</td>\n",
       "      <td>2</td>\n",
       "      <td>13.002996</td>\n",
       "      <td>3.401197</td>\n",
       "    </tr>\n",
       "    <tr>\n",
       "      <th>3</th>\n",
       "      <td>MDA0MjA3NzM2</td>\n",
       "      <td>88</td>\n",
       "      <td>02</td>\n",
       "      <td>1</td>\n",
       "      <td>3</td>\n",
       "      <td>1</td>\n",
       "      <td>0</td>\n",
       "      <td>0</td>\n",
       "      <td>0</td>\n",
       "      <td>1</td>\n",
       "      <td>...</td>\n",
       "      <td>0</td>\n",
       "      <td>5</td>\n",
       "      <td>0</td>\n",
       "      <td>2</td>\n",
       "      <td>1</td>\n",
       "      <td>2</td>\n",
       "      <td>1</td>\n",
       "      <td>2</td>\n",
       "      <td>12.414992</td>\n",
       "      <td>3.258097</td>\n",
       "    </tr>\n",
       "    <tr>\n",
       "      <th>4</th>\n",
       "      <td>MDA0MjI0MzQ1</td>\n",
       "      <td>87</td>\n",
       "      <td>01</td>\n",
       "      <td>1</td>\n",
       "      <td>1</td>\n",
       "      <td>0</td>\n",
       "      <td>0</td>\n",
       "      <td>0</td>\n",
       "      <td>0</td>\n",
       "      <td>0</td>\n",
       "      <td>...</td>\n",
       "      <td>0</td>\n",
       "      <td>5</td>\n",
       "      <td>0</td>\n",
       "      <td>1</td>\n",
       "      <td>1</td>\n",
       "      <td>2</td>\n",
       "      <td>1</td>\n",
       "      <td>2</td>\n",
       "      <td>10.544499</td>\n",
       "      <td>0.693147</td>\n",
       "    </tr>\n",
       "    <tr>\n",
       "      <th>5</th>\n",
       "      <td>MDA0MjI2MjA5</td>\n",
       "      <td>87</td>\n",
       "      <td>01</td>\n",
       "      <td>1</td>\n",
       "      <td>1</td>\n",
       "      <td>1</td>\n",
       "      <td>0</td>\n",
       "      <td>0</td>\n",
       "      <td>0</td>\n",
       "      <td>1</td>\n",
       "      <td>...</td>\n",
       "      <td>1</td>\n",
       "      <td>5</td>\n",
       "      <td>0</td>\n",
       "      <td>1</td>\n",
       "      <td>1</td>\n",
       "      <td>2</td>\n",
       "      <td>1</td>\n",
       "      <td>2</td>\n",
       "      <td>10.889267</td>\n",
       "      <td>2.079442</td>\n",
       "    </tr>\n",
       "    <tr>\n",
       "      <th>6</th>\n",
       "      <td>MDA0MjIwMTkz</td>\n",
       "      <td>83</td>\n",
       "      <td>01</td>\n",
       "      <td>1</td>\n",
       "      <td>1</td>\n",
       "      <td>1</td>\n",
       "      <td>0</td>\n",
       "      <td>0</td>\n",
       "      <td>0</td>\n",
       "      <td>1</td>\n",
       "      <td>...</td>\n",
       "      <td>1</td>\n",
       "      <td>5</td>\n",
       "      <td>0</td>\n",
       "      <td>2</td>\n",
       "      <td>1</td>\n",
       "      <td>1</td>\n",
       "      <td>2</td>\n",
       "      <td>2</td>\n",
       "      <td>12.612857</td>\n",
       "      <td>3.178054</td>\n",
       "    </tr>\n",
       "    <tr>\n",
       "      <th>7</th>\n",
       "      <td>MDA0MjQzNDU2</td>\n",
       "      <td>85</td>\n",
       "      <td>01</td>\n",
       "      <td>1</td>\n",
       "      <td>1</td>\n",
       "      <td>1</td>\n",
       "      <td>0</td>\n",
       "      <td>0</td>\n",
       "      <td>0</td>\n",
       "      <td>0</td>\n",
       "      <td>...</td>\n",
       "      <td>0</td>\n",
       "      <td>5</td>\n",
       "      <td>0</td>\n",
       "      <td>2</td>\n",
       "      <td>1</td>\n",
       "      <td>2</td>\n",
       "      <td>1</td>\n",
       "      <td>2</td>\n",
       "      <td>9.902087</td>\n",
       "      <td>1.386294</td>\n",
       "    </tr>\n",
       "    <tr>\n",
       "      <th>8</th>\n",
       "      <td>MDA0MjY3NDMx</td>\n",
       "      <td>90</td>\n",
       "      <td>01</td>\n",
       "      <td>1</td>\n",
       "      <td>1</td>\n",
       "      <td>1</td>\n",
       "      <td>0</td>\n",
       "      <td>0</td>\n",
       "      <td>0</td>\n",
       "      <td>0</td>\n",
       "      <td>...</td>\n",
       "      <td>1</td>\n",
       "      <td>5</td>\n",
       "      <td>0</td>\n",
       "      <td>2</td>\n",
       "      <td>1</td>\n",
       "      <td>2</td>\n",
       "      <td>1</td>\n",
       "      <td>2</td>\n",
       "      <td>12.140413</td>\n",
       "      <td>2.708050</td>\n",
       "    </tr>\n",
       "    <tr>\n",
       "      <th>9</th>\n",
       "      <td>MDA0MjY4MjE1</td>\n",
       "      <td>84</td>\n",
       "      <td>01</td>\n",
       "      <td>1</td>\n",
       "      <td>1</td>\n",
       "      <td>0</td>\n",
       "      <td>0</td>\n",
       "      <td>0</td>\n",
       "      <td>0</td>\n",
       "      <td>0</td>\n",
       "      <td>...</td>\n",
       "      <td>0</td>\n",
       "      <td>5</td>\n",
       "      <td>0</td>\n",
       "      <td>1</td>\n",
       "      <td>1</td>\n",
       "      <td>2</td>\n",
       "      <td>1</td>\n",
       "      <td>2</td>\n",
       "      <td>10.644210</td>\n",
       "      <td>1.098612</td>\n",
       "    </tr>\n",
       "  </tbody>\n",
       "</table>\n",
       "<p>10 rows × 26 columns</p>\n",
       "</div>"
      ],
      "text/plain": [
       "        MASKSSN  AGE ADMSRC TYPE_SERV ADM_PRIOR hld tia Stroke cvd chf  ...  \\\n",
       "0  MDA0MTQwNDgx   93     01         1         3   1   1      0   0   1  ...   \n",
       "1  MDA0MTQxODc2   94     05         1         1   0   0      0   0   0  ...   \n",
       "2  MDA0MjA0OTEz   85     01         1         3   1   1      0   0   1  ...   \n",
       "3  MDA0MjA3NzM2   88     02         1         3   1   0      0   0   1  ...   \n",
       "4  MDA0MjI0MzQ1   87     01         1         1   0   0      0   0   0  ...   \n",
       "5  MDA0MjI2MjA5   87     01         1         1   1   0      0   0   1  ...   \n",
       "6  MDA0MjIwMTkz   83     01         1         1   1   0      0   0   1  ...   \n",
       "7  MDA0MjQzNDU2   85     01         1         1   1   0      0   0   0  ...   \n",
       "8  MDA0MjY3NDMx   90     01         1         1   1   0      0   0   0  ...   \n",
       "9  MDA0MjY4MjE1   84     01         1         1   0   0      0   0   0  ...   \n",
       "\n",
       "  anx stratum pt_died sex newpayer newrace ptstate Ethnicity pt_tchgs_log  \\\n",
       "0   0       5       0   2        1       2       1         2    11.809788   \n",
       "1   0       5       1   1        1       2       1         2    11.485112   \n",
       "2   1       5       0   2        1       2       1         2    13.002996   \n",
       "3   0       5       0   2        1       2       1         2    12.414992   \n",
       "4   0       5       0   1        1       2       1         2    10.544499   \n",
       "5   1       5       0   1        1       2       1         2    10.889267   \n",
       "6   1       5       0   2        1       1       2         2    12.612857   \n",
       "7   0       5       0   2        1       2       1         2     9.902087   \n",
       "8   1       5       0   2        1       2       1         2    12.140413   \n",
       "9   0       5       0   1        1       2       1         2    10.644210   \n",
       "\n",
       "  pt_losdy_log  \n",
       "0     3.218876  \n",
       "1     2.890372  \n",
       "2     3.401197  \n",
       "3     3.258097  \n",
       "4     0.693147  \n",
       "5     2.079442  \n",
       "6     3.178054  \n",
       "7     1.386294  \n",
       "8     2.708050  \n",
       "9     1.098612  \n",
       "\n",
       "[10 rows x 26 columns]"
      ]
     },
     "execution_count": 509,
     "metadata": {},
     "output_type": "execute_result"
    }
   ],
   "source": [
    "df.head(10)"
   ]
  },
  {
   "cell_type": "code",
   "execution_count": 510,
   "metadata": {},
   "outputs": [],
   "source": [
    "datf = pd.DataFrame()\n",
    "datf['features'] = numerics\n",
    "datf['std_dev'] = datf['features'].apply(lambda x: df[x].std())\n",
    "datf['mean'] = datf['features'].apply(lambda x: df[x].mean())"
   ]
  },
  {
   "cell_type": "code",
   "execution_count": 511,
   "metadata": {},
   "outputs": [
    {
     "data": {
      "text/plain": [
       "(54895, 26)"
      ]
     },
     "execution_count": 511,
     "metadata": {},
     "output_type": "execute_result"
    }
   ],
   "source": [
    "# dropping multiple encounters while keeping either first or last encounter of these patients\n",
    "df2 = df.drop_duplicates(subset= ['MASKSSN'], keep = 'first')\n",
    "df2.shape"
   ]
  },
  {
   "cell_type": "code",
   "execution_count": 512,
   "metadata": {},
   "outputs": [],
   "source": [
    "# standardize function\n",
    "def standardize(raw_data):\n",
    "    return ((raw_data - np.mean(raw_data, axis = 0)) / np.std(raw_data, axis = 0))"
   ]
  },
  {
   "cell_type": "code",
   "execution_count": 513,
   "metadata": {},
   "outputs": [],
   "source": [
    "df2[numerics] = standardize(df2[numerics])\n",
    "import scipy as sp\n",
    "df2 = df2[(np.abs(sp.stats.zscore(df2[numerics])) < 3).all(axis=1)]"
   ]
  },
  {
   "cell_type": "code",
   "execution_count": 514,
   "metadata": {},
   "outputs": [
    {
     "data": {
      "text/html": [
       "<style  type=\"text/css\" >\n",
       "    #T_8a57d7a1_4b65_11e9_bc03_8c85901b43e5row0_col0 {\n",
       "            background-color:  #007ad1;\n",
       "            color:  #f1f1f1;\n",
       "        }    #T_8a57d7a1_4b65_11e9_bc03_8c85901b43e5row0_col1 {\n",
       "            background-color:  #e6f4ff;\n",
       "            color:  #000000;\n",
       "        }    #T_8a57d7a1_4b65_11e9_bc03_8c85901b43e5row0_col2 {\n",
       "            background-color:  #e6f4ff;\n",
       "            color:  #000000;\n",
       "        }    #T_8a57d7a1_4b65_11e9_bc03_8c85901b43e5row1_col0 {\n",
       "            background-color:  #e6f4ff;\n",
       "            color:  #000000;\n",
       "        }    #T_8a57d7a1_4b65_11e9_bc03_8c85901b43e5row1_col1 {\n",
       "            background-color:  #007ad1;\n",
       "            color:  #f1f1f1;\n",
       "        }    #T_8a57d7a1_4b65_11e9_bc03_8c85901b43e5row1_col2 {\n",
       "            background-color:  #2f93da;\n",
       "            color:  #000000;\n",
       "        }    #T_8a57d7a1_4b65_11e9_bc03_8c85901b43e5row2_col0 {\n",
       "            background-color:  #d8edfc;\n",
       "            color:  #000000;\n",
       "        }    #T_8a57d7a1_4b65_11e9_bc03_8c85901b43e5row2_col1 {\n",
       "            background-color:  #2a90d9;\n",
       "            color:  #000000;\n",
       "        }    #T_8a57d7a1_4b65_11e9_bc03_8c85901b43e5row2_col2 {\n",
       "            background-color:  #007ad1;\n",
       "            color:  #f1f1f1;\n",
       "        }</style><table id=\"T_8a57d7a1_4b65_11e9_bc03_8c85901b43e5\" ><thead>    <tr>        <th class=\"blank level0\" ></th>        <th class=\"col_heading level0 col0\" >AGE</th>        <th class=\"col_heading level0 col1\" >pt_tchgs_log</th>        <th class=\"col_heading level0 col2\" >pt_losdy_log</th>    </tr></thead><tbody>\n",
       "                <tr>\n",
       "                        <th id=\"T_8a57d7a1_4b65_11e9_bc03_8c85901b43e5level0_row0\" class=\"row_heading level0 row0\" >AGE</th>\n",
       "                        <td id=\"T_8a57d7a1_4b65_11e9_bc03_8c85901b43e5row0_col0\" class=\"data row0 col0\" >1</td>\n",
       "                        <td id=\"T_8a57d7a1_4b65_11e9_bc03_8c85901b43e5row0_col1\" class=\"data row0 col1\" >-0.0501209</td>\n",
       "                        <td id=\"T_8a57d7a1_4b65_11e9_bc03_8c85901b43e5row0_col2\" class=\"data row0 col2\" >0.0338605</td>\n",
       "            </tr>\n",
       "            <tr>\n",
       "                        <th id=\"T_8a57d7a1_4b65_11e9_bc03_8c85901b43e5level0_row1\" class=\"row_heading level0 row1\" >pt_tchgs_log</th>\n",
       "                        <td id=\"T_8a57d7a1_4b65_11e9_bc03_8c85901b43e5row1_col0\" class=\"data row1 col0\" >-0.0501209</td>\n",
       "                        <td id=\"T_8a57d7a1_4b65_11e9_bc03_8c85901b43e5row1_col1\" class=\"data row1 col1\" >1</td>\n",
       "                        <td id=\"T_8a57d7a1_4b65_11e9_bc03_8c85901b43e5row1_col2\" class=\"data row1 col2\" >0.791621</td>\n",
       "            </tr>\n",
       "            <tr>\n",
       "                        <th id=\"T_8a57d7a1_4b65_11e9_bc03_8c85901b43e5level0_row2\" class=\"row_heading level0 row2\" >pt_losdy_log</th>\n",
       "                        <td id=\"T_8a57d7a1_4b65_11e9_bc03_8c85901b43e5row2_col0\" class=\"data row2 col0\" >0.0338605</td>\n",
       "                        <td id=\"T_8a57d7a1_4b65_11e9_bc03_8c85901b43e5row2_col1\" class=\"data row2 col1\" >0.791621</td>\n",
       "                        <td id=\"T_8a57d7a1_4b65_11e9_bc03_8c85901b43e5row2_col2\" class=\"data row2 col2\" >1</td>\n",
       "            </tr>\n",
       "    </tbody></table>"
      ],
      "text/plain": [
       "<pandas.io.formats.style.Styler at 0x12ce03710>"
      ]
     },
     "execution_count": 514,
     "metadata": {},
     "output_type": "execute_result"
    }
   ],
   "source": [
    "import seaborn as sns\n",
    "from matplotlib.colors import ListedColormap\n",
    "# my_cmap = ListedColormap(sns.color_palette(\"RdYlGn\", n_colors=15).as_hex())\n",
    "# my_cmap = ListedColormap(sns.diverging_palette(150, 250, sep=120, n=28, center=\"light\").as_hex())\n",
    "\n",
    "my_cmap = ListedColormap(sns.light_palette((250, 100, 50), input=\"husl\", n_colors=50).as_hex())\n",
    "# drop some columns due to their means is round to 0\n",
    "# table = df.drop(['acetohexamide','tolbutamide', 'troglitazone', 'glipizide-metformin', 'glimepiride-pioglitazone', 'metformin-rosiglitazone', 'metformin-pioglitazone','patient_nbr', 'encounter_id', 'service_utilization_log1p'], axis = 1).corr(method='pearson')\n",
    "table = df2.drop(['MASKSSN'], axis=1).corr(method='pearson')\n",
    "table.style.background_gradient(cmap=my_cmap, axis = 0)"
   ]
  },
  {
   "cell_type": "code",
   "execution_count": 515,
   "metadata": {},
   "outputs": [
    {
     "name": "stdout",
     "output_type": "stream",
     "text": [
      "(9,)\n"
     ]
    },
    {
     "data": {
      "text/plain": [
       "Series([], dtype: float64)"
      ]
     },
     "execution_count": 515,
     "metadata": {},
     "output_type": "execute_result"
    }
   ],
   "source": [
    "pd.options.display.max_rows = 400\n",
    "\n",
    "c = df2.corr().abs()\n",
    "s = c.unstack()\n",
    "print(s.shape)\n",
    "so = s.sort_values(ascending=False)\n",
    "\n",
    "so[38:120]"
   ]
  },
  {
   "cell_type": "code",
   "execution_count": 516,
   "metadata": {},
   "outputs": [
    {
     "data": {
      "image/png": "[encoded data removed]",
      "text/plain": [
       "<Figure size 432x288 with 1 Axes>"
      ]
     },
     "metadata": {
      "needs_background": "light"
     },
     "output_type": "display_data"
    }
   ],
   "source": [
    "plt.hist(df2['pt_losdy_log'].loc[df2['pt_died'] == 0], bins=200, color = '#838B8B')\n",
    "plt.xlim(-5, 5)\n",
    "plt.title('Distribution of LOS for hospital admissions')\n",
    "plt.ylabel('Count')\n",
    "plt.xlabel('Length-of-Stay (days)')\n",
    "plt.tick_params(top=False, right=False) \n",
    "plt.show();"
   ]
  },
  {
   "cell_type": "code",
   "execution_count": 517,
   "metadata": {},
   "outputs": [],
   "source": [
    "# Target Variable (Length-of-Stay)\n",
    "LOS = df2['pt_losdy_log'].values\n",
    "# Prediction Features\n",
    "features = df2.drop(columns=['pt_losdy_log', 'pt_tchgs_log', 'MASKSSN', 'ADMSRC', 'pt_died'])"
   ]
  },
  {
   "cell_type": "code",
   "execution_count": 518,
   "metadata": {},
   "outputs": [
    {
     "name": "stdout",
     "output_type": "stream",
     "text": [
      "Training set has 43824 samples.\n",
      "Testing set has 10957 samples.\n"
     ]
    }
   ],
   "source": [
    "# Split into train 80% and test 20%\n",
    "X_train, X_test, y_train, y_test = train_test_split(features, LOS, test_size = .20, random_state = 0)\n",
    "\n",
    "# Show the results of the split\n",
    "print(\"Training set has {} samples.\".format(X_train.shape[0]))\n",
    "print(\"Testing set has {} samples.\".format(X_test.shape[0]))"
   ]
  },
  {
   "cell_type": "code",
   "execution_count": 519,
   "metadata": {},
   "outputs": [
    {
     "name": "stdout",
     "output_type": "stream",
     "text": [
      "SGDRegressor done.\n",
      "GradientBoostingRegressor done.\n",
      "LinearRegression done.\n",
      "KNeighborsRegressor done.\n",
      "RandomForestRegressor done.\n"
     ]
    }
   ],
   "source": [
    "# Regression models for comparison\n",
    "models = [SGDRegressor(random_state = 0), \n",
    "          GradientBoostingRegressor(random_state = 0), \n",
    "          LinearRegression(),\n",
    "          KNeighborsRegressor(),\n",
    "          RandomForestRegressor(random_state = 0)]\n",
    "\n",
    "results = {}\n",
    "\n",
    "for model in models:\n",
    "    \n",
    "    # Instantiate and fit Regressor Model\n",
    "    reg_model = model\n",
    "    reg_model.fit(X_train, y_train)\n",
    "    \n",
    "    # Make predictions with model\n",
    "    y_test_preds = reg_model.predict(X_test)\n",
    "    \n",
    "    # Grab model name and store results associated with model\n",
    "    name = str(model).split(\"(\")[0]\n",
    "\n",
    "    results[name] = r2_score(y_test, y_test_preds)\n",
    "    print('{} done.'.format(name))"
   ]
  },
  {
   "cell_type": "code",
   "execution_count": 520,
   "metadata": {},
   "outputs": [
    {
     "data": {
      "image/png": "[encoded data removed]",
      "text/plain": [
       "<Figure size 432x288 with 1 Axes>"
      ]
     },
     "metadata": {
      "needs_background": "light"
     },
     "output_type": "display_data"
    }
   ],
   "source": [
    "# R2 score results\n",
    "fig, ax = plt.subplots()\n",
    "ind = range(len(results))\n",
    "ax.barh(ind, list(results.values()), align='center', \n",
    "        color = '#55a868', alpha=0.8)\n",
    "ax.set_yticks(ind)\n",
    "ax.set_yticklabels(results.keys())\n",
    "ax.set_xlabel('R-squared score')\n",
    "ax.tick_params(left=False, top=False, right=False) \n",
    "ax.set_title('Comparison of Regression Models')\n",
    "fig.savefig('compare_models.png', bbox_inches = 'tight')"
   ]
  },
  {
   "cell_type": "code",
   "execution_count": 521,
   "metadata": {},
   "outputs": [
    {
     "name": "stdout",
     "output_type": "stream",
     "text": [
      "R2 score is: 0.289579\n"
     ]
    }
   ],
   "source": [
    "# GradientBoostingRegressor will be used as the LOS prediction model\n",
    "reg_model = GradientBoostingRegressor(random_state=0)   \n",
    "reg_model.fit(X_train, y_train)\n",
    "y_test_preds = reg_model.predict(X_test)\n",
    "r2_not_refined = r2_score(y_test, y_test_preds)\n",
    "print(\"R2 score is: {:2f}\".format(r2_not_refined)) "
   ]
  },
  {
   "cell_type": "code",
   "execution_count": 522,
   "metadata": {},
   "outputs": [
    {
     "data": {
      "text/html": [
       "<div>\n",
       "<style scoped>\n",
       "    .dataframe tbody tr th:only-of-type {\n",
       "        vertical-align: middle;\n",
       "    }\n",
       "\n",
       "    .dataframe tbody tr th {\n",
       "        vertical-align: top;\n",
       "    }\n",
       "\n",
       "    .dataframe thead th {\n",
       "        text-align: right;\n",
       "    }\n",
       "</style>\n",
       "<table border=\"1\" class=\"dataframe\">\n",
       "  <thead>\n",
       "    <tr style=\"text-align: right;\">\n",
       "      <th></th>\n",
       "      <th>importance</th>\n",
       "    </tr>\n",
       "  </thead>\n",
       "  <tbody>\n",
       "    <tr>\n",
       "      <th>chf</th>\n",
       "      <td>0.418241</td>\n",
       "    </tr>\n",
       "    <tr>\n",
       "      <th>copd</th>\n",
       "      <td>0.185560</td>\n",
       "    </tr>\n",
       "    <tr>\n",
       "      <th>dep</th>\n",
       "      <td>0.139820</td>\n",
       "    </tr>\n",
       "    <tr>\n",
       "      <th>pvd</th>\n",
       "      <td>0.093684</td>\n",
       "    </tr>\n",
       "    <tr>\n",
       "      <th>TYPE_SERV</th>\n",
       "      <td>0.039188</td>\n",
       "    </tr>\n",
       "    <tr>\n",
       "      <th>anx</th>\n",
       "      <td>0.038278</td>\n",
       "    </tr>\n",
       "    <tr>\n",
       "      <th>tia</th>\n",
       "      <td>0.018635</td>\n",
       "    </tr>\n",
       "    <tr>\n",
       "      <th>AGE</th>\n",
       "      <td>0.016904</td>\n",
       "    </tr>\n",
       "    <tr>\n",
       "      <th>cad</th>\n",
       "      <td>0.010907</td>\n",
       "    </tr>\n",
       "    <tr>\n",
       "      <th>cvd</th>\n",
       "      <td>0.007544</td>\n",
       "    </tr>\n",
       "    <tr>\n",
       "      <th>hld</th>\n",
       "      <td>0.006023</td>\n",
       "    </tr>\n",
       "    <tr>\n",
       "      <th>Ethnicity</th>\n",
       "      <td>0.005309</td>\n",
       "    </tr>\n",
       "    <tr>\n",
       "      <th>ADM_PRIOR</th>\n",
       "      <td>0.004400</td>\n",
       "    </tr>\n",
       "    <tr>\n",
       "      <th>newpayer</th>\n",
       "      <td>0.004211</td>\n",
       "    </tr>\n",
       "    <tr>\n",
       "      <th>newrace</th>\n",
       "      <td>0.004170</td>\n",
       "    </tr>\n",
       "    <tr>\n",
       "      <th>htn</th>\n",
       "      <td>0.002779</td>\n",
       "    </tr>\n",
       "    <tr>\n",
       "      <th>sex</th>\n",
       "      <td>0.002212</td>\n",
       "    </tr>\n",
       "    <tr>\n",
       "      <th>stratum</th>\n",
       "      <td>0.002125</td>\n",
       "    </tr>\n",
       "    <tr>\n",
       "      <th>ptstate</th>\n",
       "      <td>0.000010</td>\n",
       "    </tr>\n",
       "    <tr>\n",
       "      <th>dm</th>\n",
       "      <td>0.000000</td>\n",
       "    </tr>\n",
       "  </tbody>\n",
       "</table>\n",
       "</div>"
      ],
      "text/plain": [
       "           importance\n",
       "chf          0.418241\n",
       "copd         0.185560\n",
       "dep          0.139820\n",
       "pvd          0.093684\n",
       "TYPE_SERV    0.039188\n",
       "anx          0.038278\n",
       "tia          0.018635\n",
       "AGE          0.016904\n",
       "cad          0.010907\n",
       "cvd          0.007544\n",
       "hld          0.006023\n",
       "Ethnicity    0.005309\n",
       "ADM_PRIOR    0.004400\n",
       "newpayer     0.004211\n",
       "newrace      0.004170\n",
       "htn          0.002779\n",
       "sex          0.002212\n",
       "stratum      0.002125\n",
       "ptstate      0.000010\n",
       "dm           0.000000"
      ]
     },
     "execution_count": 522,
     "metadata": {},
     "output_type": "execute_result"
    }
   ],
   "source": [
    "# https://towardsdatascience.com/running-random-forests-inspect-the-feature-importances-with-this-code-2b00dd72b92e\n",
    "feature_imp = pd.DataFrame(reg_model.feature_importances_,\n",
    "                                   index = X_train.columns,\n",
    "                                   columns=['importance']).sort_values('importance', ascending=False)\n",
    "\n",
    "feature_imp.head(20)"
   ]
  },
  {
   "cell_type": "code",
   "execution_count": 523,
   "metadata": {},
   "outputs": [
    {
     "data": {
      "text/plain": [
       "['chf',\n",
       " 'copd',\n",
       " 'dep',\n",
       " 'pvd',\n",
       " 'TYPE_SERV',\n",
       " 'anx',\n",
       " 'tia',\n",
       " 'AGE',\n",
       " 'cad',\n",
       " 'cvd',\n",
       " 'hld',\n",
       " 'Ethnicity',\n",
       " 'ADM_PRIOR',\n",
       " 'newpayer',\n",
       " 'newrace']"
      ]
     },
     "execution_count": 523,
     "metadata": {},
     "output_type": "execute_result"
    }
   ],
   "source": [
    "feature_imp.index[0:15].tolist()"
   ]
  },
  {
   "cell_type": "code",
   "execution_count": 524,
   "metadata": {},
   "outputs": [
    {
     "name": "stdout",
     "output_type": "stream",
     "text": [
      "0.2966632412149349\n",
      "GradientBoostingRegressor(alpha=0.9, criterion='friedman_mse', init=None,\n",
      "             learning_rate=0.1, loss='ls', max_depth=3, max_features=None,\n",
      "             max_leaf_nodes=None, min_impurity_decrease=0.0,\n",
      "             min_impurity_split=None, min_samples_leaf=1,\n",
      "             min_samples_split=2, min_weight_fraction_leaf=0.0,\n",
      "             n_estimators=200, n_iter_no_change=None, presort='auto',\n",
      "             random_state=None, subsample=1.0, tol=0.0001,\n",
      "             validation_fraction=0.1, verbose=0, warm_start=False)\n"
     ]
    }
   ],
   "source": [
    "# Split into train 80% and test 20%\n",
    "X_train, X_test, y_train, y_test = train_test_split(features, \n",
    "                                                    LOS, \n",
    "                                                    test_size = .20, \n",
    "                                                    random_state = 42)\n",
    "\n",
    "# Set the parameters by cross-validation\n",
    "#tuned_parameters = [{'n_estimators': [100, 200, 300],\n",
    "#                     'max_depth' : [2, 3, 4],\n",
    "#                     'loss': ['ls', 'lad', 'huber']}]\n",
    "tuned_parameters = [{'n_estimators': [200, 300],\n",
    "                     'max_depth' : [3, 4],\n",
    "                     'loss': ['ls', 'lad']}]\n",
    "\n",
    "# create and fit a ridge regression model, testing each alpha\n",
    "reg_model = GradientBoostingRegressor()  \n",
    "grid = GridSearchCV(reg_model, tuned_parameters)\n",
    "grid.fit(X_train, y_train)\n",
    "reg_model_optimized = grid.best_estimator_\n",
    "\n",
    "# summarize the results of the grid search\n",
    "print(grid.best_score_)\n",
    "print(grid.best_estimator_)"
   ]
  },
  {
   "cell_type": "code",
   "execution_count": 525,
   "metadata": {},
   "outputs": [
    {
     "name": "stdout",
     "output_type": "stream",
     "text": [
      "Optimized R2 score is: 0.285202\n"
     ]
    }
   ],
   "source": [
    "#reg_model = GradientBoostingRegressor(n_estimators = 200, max_depth=4, random_state=0)   \n",
    "#reg_model.fit(X_train, y_train)\n",
    "y_test_preds = reg_model_optimized.predict(X_test)\n",
    "r2_optimized = r2_score(y_test, y_test_preds)\n",
    "print(\"Optimized R2 score is: {:2f}\".format(r2_optimized))"
   ]
  },
  {
   "cell_type": "code",
   "execution_count": 526,
   "metadata": {},
   "outputs": [
    {
     "name": "stdout",
     "output_type": "stream",
     "text": [
      "Model refinement improved R2 score by -0.0044\n"
     ]
    }
   ],
   "source": [
    "print('Model refinement improved R2 score by {:.4f}'.format(r2_optimized-r2_not_refined))"
   ]
  },
  {
   "cell_type": "code",
   "execution_count": 527,
   "metadata": {
    "scrolled": false
   },
   "outputs": [
    {
     "data": {
      "text/html": [
       "<div>\n",
       "<style scoped>\n",
       "    .dataframe tbody tr th:only-of-type {\n",
       "        vertical-align: middle;\n",
       "    }\n",
       "\n",
       "    .dataframe tbody tr th {\n",
       "        vertical-align: top;\n",
       "    }\n",
       "\n",
       "    .dataframe thead th {\n",
       "        text-align: right;\n",
       "    }\n",
       "</style>\n",
       "<table border=\"1\" class=\"dataframe\">\n",
       "  <thead>\n",
       "    <tr style=\"text-align: right;\">\n",
       "      <th></th>\n",
       "      <th>importance</th>\n",
       "    </tr>\n",
       "  </thead>\n",
       "  <tbody>\n",
       "    <tr>\n",
       "      <th>chf</th>\n",
       "      <td>0.404644</td>\n",
       "    </tr>\n",
       "    <tr>\n",
       "      <th>copd</th>\n",
       "      <td>0.184078</td>\n",
       "    </tr>\n",
       "    <tr>\n",
       "      <th>dep</th>\n",
       "      <td>0.135521</td>\n",
       "    </tr>\n",
       "    <tr>\n",
       "      <th>pvd</th>\n",
       "      <td>0.098977</td>\n",
       "    </tr>\n",
       "    <tr>\n",
       "      <th>anx</th>\n",
       "      <td>0.039095</td>\n",
       "    </tr>\n",
       "    <tr>\n",
       "      <th>TYPE_SERV</th>\n",
       "      <td>0.037000</td>\n",
       "    </tr>\n",
       "    <tr>\n",
       "      <th>AGE</th>\n",
       "      <td>0.025122</td>\n",
       "    </tr>\n",
       "    <tr>\n",
       "      <th>tia</th>\n",
       "      <td>0.019103</td>\n",
       "    </tr>\n",
       "    <tr>\n",
       "      <th>cad</th>\n",
       "      <td>0.014543</td>\n",
       "    </tr>\n",
       "    <tr>\n",
       "      <th>cvd</th>\n",
       "      <td>0.007667</td>\n",
       "    </tr>\n",
       "    <tr>\n",
       "      <th>ADM_PRIOR</th>\n",
       "      <td>0.005430</td>\n",
       "    </tr>\n",
       "    <tr>\n",
       "      <th>newrace</th>\n",
       "      <td>0.005410</td>\n",
       "    </tr>\n",
       "    <tr>\n",
       "      <th>hld</th>\n",
       "      <td>0.005120</td>\n",
       "    </tr>\n",
       "    <tr>\n",
       "      <th>Ethnicity</th>\n",
       "      <td>0.004738</td>\n",
       "    </tr>\n",
       "    <tr>\n",
       "      <th>newpayer</th>\n",
       "      <td>0.004560</td>\n",
       "    </tr>\n",
       "    <tr>\n",
       "      <th>htn</th>\n",
       "      <td>0.003207</td>\n",
       "    </tr>\n",
       "    <tr>\n",
       "      <th>sex</th>\n",
       "      <td>0.003057</td>\n",
       "    </tr>\n",
       "    <tr>\n",
       "      <th>stratum</th>\n",
       "      <td>0.002344</td>\n",
       "    </tr>\n",
       "    <tr>\n",
       "      <th>Stroke</th>\n",
       "      <td>0.000194</td>\n",
       "    </tr>\n",
       "    <tr>\n",
       "      <th>ptstate</th>\n",
       "      <td>0.000189</td>\n",
       "    </tr>\n",
       "  </tbody>\n",
       "</table>\n",
       "</div>"
      ],
      "text/plain": [
       "           importance\n",
       "chf          0.404644\n",
       "copd         0.184078\n",
       "dep          0.135521\n",
       "pvd          0.098977\n",
       "anx          0.039095\n",
       "TYPE_SERV    0.037000\n",
       "AGE          0.025122\n",
       "tia          0.019103\n",
       "cad          0.014543\n",
       "cvd          0.007667\n",
       "ADM_PRIOR    0.005430\n",
       "newrace      0.005410\n",
       "hld          0.005120\n",
       "Ethnicity    0.004738\n",
       "newpayer     0.004560\n",
       "htn          0.003207\n",
       "sex          0.003057\n",
       "stratum      0.002344\n",
       "Stroke       0.000194\n",
       "ptstate      0.000189"
      ]
     },
     "execution_count": 527,
     "metadata": {},
     "output_type": "execute_result"
    }
   ],
   "source": [
    "# https://towardsdatascience.com/running-random-forests-inspect-the-feature-importances-with-this-code-2b00dd72b92e\n",
    "feature_imp1 = pd.DataFrame(reg_model_optimized.feature_importances_,\n",
    "                                   index = X_train.columns,\n",
    "                                   columns=['importance']).sort_values('importance', ascending=False)\n",
    "\n",
    "feature_imp1.head(20)"
   ]
  },
  {
   "cell_type": "code",
   "execution_count": 528,
   "metadata": {
    "scrolled": true
   },
   "outputs": [
    {
     "data": {
      "text/plain": [
       "['chf',\n",
       " 'copd',\n",
       " 'dep',\n",
       " 'pvd',\n",
       " 'anx',\n",
       " 'TYPE_SERV',\n",
       " 'AGE',\n",
       " 'tia',\n",
       " 'cad',\n",
       " 'cvd',\n",
       " 'ADM_PRIOR',\n",
       " 'newrace',\n",
       " 'hld',\n",
       " 'Ethnicity',\n",
       " 'newpayer']"
      ]
     },
     "execution_count": 528,
     "metadata": {},
     "output_type": "execute_result"
    }
   ],
   "source": [
    "feature_imp1.index[0:15].tolist()"
   ]
  },
  {
   "cell_type": "code",
   "execution_count": 529,
   "metadata": {},
   "outputs": [
    {
     "data": {
      "image/png": "[encoded data removed]",
      "text/plain": [
       "<Figure size 504x360 with 1 Axes>"
      ]
     },
     "metadata": {
      "needs_background": "light"
     },
     "output_type": "display_data"
    }
   ],
   "source": [
    "# Plot feature importance\n",
    "fig, ax = plt.subplots(figsize=(7, 5))\n",
    "ind = range(0,15)\n",
    "ax.barh(ind, feature_imp['importance'].values[0:15], \n",
    "        align='center', color='#c44e52', alpha=0.9)\n",
    "ax.set_yticks(ind)\n",
    "ax.set_yticklabels(feature_imp.index[0:15].tolist())\n",
    "ax.tick_params(left=False, top=False, right=False) \n",
    "ax.set_title(\"Top 15 features for predicting LOS\")\n",
    "ax.set_xlabel('Feature Importance Coefficient \\n(GradientBoostingRegressor)')\n",
    "plt.gca().invert_yaxis()\n",
    "fig.savefig('feature_importance.png', bbox_inches = 'tight')"
   ]
  },
  {
   "cell_type": "code",
   "execution_count": 530,
   "metadata": {},
   "outputs": [
    {
     "data": {
      "image/png": "[encoded data removed]",
      "text/plain": [
       "<Figure size 504x360 with 1 Axes>"
      ]
     },
     "metadata": {
      "needs_background": "light"
     },
     "output_type": "display_data"
    }
   ],
   "source": [
    "# Plot feature importance\n",
    "fig, ax = plt.subplots(figsize=(7, 5))\n",
    "ind = range(0,15)\n",
    "ax.barh(ind, feature_imp1['importance'].values[0:15], \n",
    "        align='center', color='#c44e52', alpha=0.9)\n",
    "ax.set_yticks(ind)\n",
    "ax.set_yticklabels(feature_imp1.index[0:15].tolist())\n",
    "ax.tick_params(left=False, top=False, right=False) \n",
    "ax.set_title(\"Top 15 features for predicting LOS\")\n",
    "ax.set_xlabel('Feature Importance Coefficient \\n(GradientBoostingRegressor)')\n",
    "plt.gca().invert_yaxis()\n",
    "fig.savefig('feature_importance.png', bbox_inches = 'tight')"
   ]
  },
  {
   "cell_type": "code",
   "execution_count": null,
   "metadata": {},
   "outputs": [],
   "source": []
  }
 ],
 "metadata": {
  "kernelspec": {
   "display_name": "Python 3",
   "language": "python",
   "name": "python3"
  },
  "language_info": {
   "codemirror_mode": {
    "name": "ipython",
    "version": 3
   },
   "file_extension": ".py",
   "mimetype": "text/x-python",
   "name": "python",
   "nbconvert_exporter": "python",
   "pygments_lexer": "ipython3",
   "version": "3.7.3"
  }
 },
 "nbformat": 4,
 "nbformat_minor": 2
}
